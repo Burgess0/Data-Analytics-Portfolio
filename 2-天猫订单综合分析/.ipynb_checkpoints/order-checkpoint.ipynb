{
 "cells": [
  {
   "cell_type": "code",
   "execution_count": 1,
   "id": "5697a3a3-9ea5-4f91-aed0-08ca9250c99f",
   "metadata": {},
   "outputs": [],
   "source": [
    "import numpy as np\n",
    "import matplotlib.pyplot as plt\n",
    "import pandas as pd\n",
    "import os\n",
    "import matplotlib as mpl\n",
    "mpl.rcParams['font.sans-serif'] = ['SimHei', 'Arial Unicode MS']\n",
    "mpl.rcParams['axes.unicode_minus'] = False\n",
    "%matplotlib inline\n",
    "import warnings\n",
    "warnings.filterwarnings('ignore')"
   ]
  },
  {
   "cell_type": "code",
   "execution_count": 2,
   "id": "ec31c794-dc07-49d5-8342-17b33f8d9eb6",
   "metadata": {},
   "outputs": [],
   "source": [
    "path = r'E:\\文件\\BA项目集\\天猫订单综合分析\\tmall_order_report.csv'\n",
    "df = pd.read_csv(path,engine = 'python',encoding = 'gbk')"
   ]
  },
  {
   "cell_type": "code",
   "execution_count": 3,
   "id": "669ef339-ae19-4555-aa26-6c012b6273ad",
   "metadata": {},
   "outputs": [
    {
     "data": {
      "text/html": [
       "<div>\n",
       "<style scoped>\n",
       "    .dataframe tbody tr th:only-of-type {\n",
       "        vertical-align: middle;\n",
       "    }\n",
       "\n",
       "    .dataframe tbody tr th {\n",
       "        vertical-align: top;\n",
       "    }\n",
       "\n",
       "    .dataframe thead th {\n",
       "        text-align: right;\n",
       "    }\n",
       "</style>\n",
       "<table border=\"1\" class=\"dataframe\">\n",
       "  <thead>\n",
       "    <tr style=\"text-align: right;\">\n",
       "      <th></th>\n",
       "      <th>订单编号</th>\n",
       "      <th>总金额</th>\n",
       "      <th>买家实际支付金额</th>\n",
       "      <th>收货地址</th>\n",
       "      <th>订单创建时间</th>\n",
       "      <th>订单付款时间</th>\n",
       "      <th>退款金额</th>\n",
       "    </tr>\n",
       "  </thead>\n",
       "  <tbody>\n",
       "    <tr>\n",
       "      <th>0</th>\n",
       "      <td>1</td>\n",
       "      <td>178.8</td>\n",
       "      <td>0.0</td>\n",
       "      <td>上海</td>\n",
       "      <td>2020/2/21 0:00</td>\n",
       "      <td>NaN</td>\n",
       "      <td>0.0</td>\n",
       "    </tr>\n",
       "  </tbody>\n",
       "</table>\n",
       "</div>"
      ],
      "text/plain": [
       "   订单编号    总金额  买家实际支付金额 收货地址          订单创建时间 订单付款时间  退款金额\n",
       "0     1  178.8       0.0   上海  2020/2/21 0:00    NaN   0.0"
      ]
     },
     "execution_count": 3,
     "metadata": {},
     "output_type": "execute_result"
    }
   ],
   "source": [
    "df.head(1)"
   ]
  },
  {
   "cell_type": "code",
   "execution_count": 4,
   "id": "f6503aea-f2ca-45df-8f0b-13591aea54bb",
   "metadata": {},
   "outputs": [
    {
     "data": {
      "text/html": [
       "<div>\n",
       "<style scoped>\n",
       "    .dataframe tbody tr th:only-of-type {\n",
       "        vertical-align: middle;\n",
       "    }\n",
       "\n",
       "    .dataframe tbody tr th {\n",
       "        vertical-align: top;\n",
       "    }\n",
       "\n",
       "    .dataframe thead th {\n",
       "        text-align: right;\n",
       "    }\n",
       "</style>\n",
       "<table border=\"1\" class=\"dataframe\">\n",
       "  <thead>\n",
       "    <tr style=\"text-align: right;\">\n",
       "      <th></th>\n",
       "      <th>订单编号</th>\n",
       "      <th>总金额</th>\n",
       "      <th>买家实际支付金额</th>\n",
       "      <th>收货地址</th>\n",
       "      <th>订单创建时间</th>\n",
       "      <th>订单付款时间</th>\n",
       "      <th>退款金额</th>\n",
       "    </tr>\n",
       "  </thead>\n",
       "  <tbody>\n",
       "    <tr>\n",
       "      <th>28009</th>\n",
       "      <td>28010</td>\n",
       "      <td>37.0</td>\n",
       "      <td>37.0</td>\n",
       "      <td>广东省</td>\n",
       "      <td>2020/2/27 0:00</td>\n",
       "      <td>2020/2/27 0:00</td>\n",
       "      <td>0.0</td>\n",
       "    </tr>\n",
       "  </tbody>\n",
       "</table>\n",
       "</div>"
      ],
      "text/plain": [
       "        订单编号   总金额  买家实际支付金额 收货地址          订单创建时间          订单付款时间  退款金额\n",
       "28009  28010  37.0      37.0  广东省  2020/2/27 0:00  2020/2/27 0:00   0.0"
      ]
     },
     "execution_count": 4,
     "metadata": {},
     "output_type": "execute_result"
    }
   ],
   "source": [
    "df.tail(1)"
   ]
  },
  {
   "cell_type": "code",
   "execution_count": 5,
   "id": "c012bf16-6a8e-4506-946a-4d566117072d",
   "metadata": {},
   "outputs": [
    {
     "data": {
      "text/plain": [
       "Index(['订单编号', '总金额', '买家实际支付金额', '收货地址', '订单创建时间', '订单付款时间', '退款金额'], dtype='object')"
      ]
     },
     "execution_count": 5,
     "metadata": {},
     "output_type": "execute_result"
    }
   ],
   "source": [
    "df.columns"
   ]
  },
  {
   "cell_type": "code",
   "execution_count": 6,
   "id": "8eca30c0-e336-4753-abb7-44e0c577e014",
   "metadata": {},
   "outputs": [
    {
     "data": {
      "text/plain": [
       "Index(['订单编号', '总金额', '买家实际支付金额', '收货地址', '订单创建时间', '订单付款时间', '退款金额'], dtype='object')"
      ]
     },
     "execution_count": 6,
     "metadata": {},
     "output_type": "execute_result"
    }
   ],
   "source": [
    "#将字段名称中空格去掉，规范字段名称\n",
    "df = df.rename( columns = {'收货地址':'收货地址','订单付款时间':'订单付款时间'})\n",
    "df.columns"
   ]
  },
  {
   "cell_type": "code",
   "execution_count": 7,
   "id": "c507112b-6804-47b1-b985-7b4f2729acd5",
   "metadata": {},
   "outputs": [
    {
     "name": "stdout",
     "output_type": "stream",
     "text": [
      "<class 'pandas.core.frame.DataFrame'>\n",
      "RangeIndex: 28010 entries, 0 to 28009\n",
      "Data columns (total 7 columns):\n",
      " #   Column    Non-Null Count  Dtype  \n",
      "---  ------    --------------  -----  \n",
      " 0   订单编号      28010 non-null  int64  \n",
      " 1   总金额       28010 non-null  float64\n",
      " 2   买家实际支付金额  28010 non-null  float64\n",
      " 3   收货地址      28010 non-null  object \n",
      " 4   订单创建时间    28010 non-null  object \n",
      " 5   订单付款时间    24087 non-null  object \n",
      " 6   退款金额      28010 non-null  float64\n",
      "dtypes: float64(3), int64(1), object(3)\n",
      "memory usage: 1.5+ MB\n"
     ]
    }
   ],
   "source": [
    "df.info()"
   ]
  },
  {
   "cell_type": "code",
   "execution_count": 8,
   "id": "06981a42-f420-492e-b69e-b11ec9d46e16",
   "metadata": {},
   "outputs": [
    {
     "data": {
      "text/plain": [
       "np.int64(0)"
      ]
     },
     "execution_count": 8,
     "metadata": {},
     "output_type": "execute_result"
    }
   ],
   "source": [
    "df.duplicated().sum()"
   ]
  },
  {
   "cell_type": "code",
   "execution_count": 9,
   "id": "144067ab-a368-470b-8524-ed8346d150a4",
   "metadata": {},
   "outputs": [
    {
     "data": {
      "text/plain": [
       "订单编号           0\n",
       "总金额            0\n",
       "买家实际支付金额       0\n",
       "收货地址           0\n",
       "订单创建时间         0\n",
       "订单付款时间      3923\n",
       "退款金额           0\n",
       "dtype: int64"
      ]
     },
     "execution_count": 9,
     "metadata": {},
     "output_type": "execute_result"
    }
   ],
   "source": [
    "df.isnull().sum()"
   ]
  },
  {
   "cell_type": "code",
   "execution_count": 10,
   "id": "802474f8-7feb-4a41-a94e-e2a7664ee3f1",
   "metadata": {},
   "outputs": [],
   "source": [
    "dict_convs = dict()"
   ]
  },
  {
   "cell_type": "code",
   "execution_count": 11,
   "id": "3bb6787e-7a24-418b-88de-baba31da9b9d",
   "metadata": {},
   "outputs": [
    {
     "data": {
      "text/plain": [
       "28010"
      ]
     },
     "execution_count": 11,
     "metadata": {},
     "output_type": "execute_result"
    }
   ],
   "source": [
    "key = '总订单数'\n",
    "dict_convs[key] = len(df)\n",
    "len(df)"
   ]
  },
  {
   "cell_type": "code",
   "execution_count": 12,
   "id": "9e1cc458-2b09-4912-92f5-0b39ecce109f",
   "metadata": {},
   "outputs": [
    {
     "data": {
      "text/plain": [
       "24087"
      ]
     },
     "execution_count": 12,
     "metadata": {},
     "output_type": "execute_result"
    }
   ],
   "source": [
    "key = '付款订单数'\n",
    "#付款时间不为空的，表示付过款\n",
    "df_payed = df[df['订单付款时间'].notnull()]\n",
    "\n",
    "dict_convs[key] = len(df_payed)\n",
    "\n",
    "len(df_payed)"
   ]
  },
  {
   "cell_type": "code",
   "execution_count": 13,
   "id": "374ca250-0378-465b-aac4-7ef45103ce4e",
   "metadata": {},
   "outputs": [
    {
     "data": {
      "text/plain": [
       "18955"
      ]
     },
     "execution_count": 13,
     "metadata": {},
     "output_type": "execute_result"
    }
   ],
   "source": [
    "key ='到款订单数'\n",
    "#买家实际支付金额：总金额-退款金额（在已付款的情况下）\n",
    "#买家实际支付金额不为0的，说明订单商家收到过款\n",
    "df_trans=df_payed[df_payed['买家实际支付金额'] != 0]\n",
    "dict_convs[key] = len(df_trans)\n",
    "len(df_trans)"
   ]
  },
  {
   "cell_type": "code",
   "execution_count": 14,
   "id": "d4638c95-15d8-4bf7-bb7f-13ae7039f3a0",
   "metadata": {},
   "outputs": [
    {
     "data": {
      "text/plain": [
       "18441"
      ]
     },
     "execution_count": 14,
     "metadata": {},
     "output_type": "execute_result"
    }
   ],
   "source": [
    "key = '全额到款订单数'\n",
    "#在付款的订单中，退款金额为0的，说明没有退款，表示全额收款\n",
    "df_trans_full = df_payed[df_payed['退款金额'] == 0]\n",
    "dict_convs[key] = len(df_trans_full)\n",
    "len(df_trans_full)"
   ]
  },
  {
   "cell_type": "code",
   "execution_count": 15,
   "id": "5a8b14c9-13da-4d49-b990-c1f51b030a16",
   "metadata": {},
   "outputs": [
    {
     "data": {
      "text/plain": [
       "{'总订单数': 28010, '付款订单数': 24087, '到款订单数': 18955, '全额到款订单数': 18441}"
      ]
     },
     "execution_count": 15,
     "metadata": {},
     "output_type": "execute_result"
    }
   ],
   "source": [
    "#查看转化数据\n",
    "dict_convs"
   ]
  },
  {
   "cell_type": "code",
   "execution_count": 16,
   "id": "e6e3dd5c-fd01-4875-9126-273fc3e23c03",
   "metadata": {},
   "outputs": [
    {
     "data": {
      "text/html": [
       "<div>\n",
       "<style scoped>\n",
       "    .dataframe tbody tr th:only-of-type {\n",
       "        vertical-align: middle;\n",
       "    }\n",
       "\n",
       "    .dataframe tbody tr th {\n",
       "        vertical-align: top;\n",
       "    }\n",
       "\n",
       "    .dataframe thead th {\n",
       "        text-align: right;\n",
       "    }\n",
       "</style>\n",
       "<table border=\"1\" class=\"dataframe\">\n",
       "  <thead>\n",
       "    <tr style=\"text-align: right;\">\n",
       "      <th></th>\n",
       "      <th>订单数</th>\n",
       "    </tr>\n",
       "  </thead>\n",
       "  <tbody>\n",
       "    <tr>\n",
       "      <th>总订单数</th>\n",
       "      <td>28010</td>\n",
       "    </tr>\n",
       "    <tr>\n",
       "      <th>付款订单数</th>\n",
       "      <td>24087</td>\n",
       "    </tr>\n",
       "    <tr>\n",
       "      <th>到款订单数</th>\n",
       "      <td>18955</td>\n",
       "    </tr>\n",
       "    <tr>\n",
       "      <th>全额到款订单数</th>\n",
       "      <td>18441</td>\n",
       "    </tr>\n",
       "  </tbody>\n",
       "</table>\n",
       "</div>"
      ],
      "text/plain": [
       "           订单数\n",
       "总订单数     28010\n",
       "付款订单数    24087\n",
       "到款订单数    18955\n",
       "全额到款订单数  18441"
      ]
     },
     "execution_count": 16,
     "metadata": {},
     "output_type": "execute_result"
    }
   ],
   "source": [
    "df_convs = pd.Series(dict_convs,name = '订单数').to_frame()\n",
    "df_convs"
   ]
  },
  {
   "cell_type": "code",
   "execution_count": 17,
   "id": "b45c220f-8c2c-4fd0-829e-b7f2998ec164",
   "metadata": {},
   "outputs": [
    {
     "data": {
      "text/html": [
       "<div>\n",
       "<style scoped>\n",
       "    .dataframe tbody tr th:only-of-type {\n",
       "        vertical-align: middle;\n",
       "    }\n",
       "\n",
       "    .dataframe tbody tr th {\n",
       "        vertical-align: top;\n",
       "    }\n",
       "\n",
       "    .dataframe thead th {\n",
       "        text-align: right;\n",
       "    }\n",
       "</style>\n",
       "<table border=\"1\" class=\"dataframe\">\n",
       "  <thead>\n",
       "    <tr style=\"text-align: right;\">\n",
       "      <th></th>\n",
       "      <th>订单数</th>\n",
       "      <th>总体转化率</th>\n",
       "    </tr>\n",
       "  </thead>\n",
       "  <tbody>\n",
       "    <tr>\n",
       "      <th>总订单数</th>\n",
       "      <td>28010</td>\n",
       "      <td>100.0</td>\n",
       "    </tr>\n",
       "    <tr>\n",
       "      <th>付款订单数</th>\n",
       "      <td>24087</td>\n",
       "      <td>86.0</td>\n",
       "    </tr>\n",
       "    <tr>\n",
       "      <th>到款订单数</th>\n",
       "      <td>18955</td>\n",
       "      <td>68.0</td>\n",
       "    </tr>\n",
       "    <tr>\n",
       "      <th>全额到款订单数</th>\n",
       "      <td>18441</td>\n",
       "      <td>66.0</td>\n",
       "    </tr>\n",
       "  </tbody>\n",
       "</table>\n",
       "</div>"
      ],
      "text/plain": [
       "           订单数  总体转化率\n",
       "总订单数     28010  100.0\n",
       "付款订单数    24087   86.0\n",
       "到款订单数    18955   68.0\n",
       "全额到款订单数  18441   66.0"
      ]
     },
     "execution_count": 17,
     "metadata": {},
     "output_type": "execute_result"
    }
   ],
   "source": [
    "#添加总体转化率，每个环节除以总订单数\n",
    "name = '总体转化率'\n",
    "total_convs = df_convs['订单数']/df_convs.loc['总订单数','订单数']*100\n",
    "df_convs[name] = total_convs.apply(lambda x : round(x,0))\n",
    "df_convs"
   ]
  },
  {
   "cell_type": "code",
   "execution_count": 18,
   "id": "09b3b47e-1290-4fec-b72b-430dff437a20",
   "metadata": {},
   "outputs": [],
   "source": [
    "# 必须在其他 pyecharts 导入之前运行\n",
    "from pyecharts.globals import CurrentConfig, NotebookType\n",
    "# 如果你在 classic Jupyter Notebook（浏览器打开 .ipynb）\n",
    "CurrentConfig.NOTEBOOK_TYPE = NotebookType.JUPYTER_NOTEBOOK\n",
    "\n",
    "# 如果你在 JupyterLab、或者 VSCode 的 Notebook（VSCode 通常需要 JUPYTER_LAB）\n",
    "# CurrentConfig.NOTEBOOK_TYPE = NotebookType.JUPYTER_LAB"
   ]
  },
  {
   "cell_type": "code",
   "execution_count": 19,
   "id": "9ab141fa-2888-4b6a-8b23-0ff6239abd60",
   "metadata": {},
   "outputs": [],
   "source": [
    "from pyecharts.charts import Funnel\n",
    "from pyecharts import options as opts"
   ]
  },
  {
   "cell_type": "code",
   "execution_count": 20,
   "id": "dbebc177-3a2b-4e61-b015-05c39bfe7afc",
   "metadata": {},
   "outputs": [
    {
     "data": {
      "text/html": [
       "\n",
       "<script>\n",
       "    require.config({\n",
       "        paths: {\n",
       "            'echarts':'https://assets.pyecharts.org/assets/v5/echarts.min'\n",
       "        }\n",
       "    });\n",
       "</script>\n",
       "\n",
       "        <div id=\"5e59cf1ce6a34f05addaef95d08e5826\" style=\"width:900px; height:500px;\"></div>\n",
       "\n",
       "<script>\n",
       "        require(['echarts'], function(echarts) {\n",
       "                var chart_5e59cf1ce6a34f05addaef95d08e5826 = echarts.init(\n",
       "                    document.getElementById('5e59cf1ce6a34f05addaef95d08e5826'), 'white', {renderer: 'canvas', locale: 'ZH'});\n",
       "                var option_5e59cf1ce6a34f05addaef95d08e5826 = {\n",
       "    \"animation\": true,\n",
       "    \"animationThreshold\": 2000,\n",
       "    \"animationDuration\": 1000,\n",
       "    \"animationEasing\": \"cubicOut\",\n",
       "    \"animationDelay\": 0,\n",
       "    \"animationDurationUpdate\": 300,\n",
       "    \"animationEasingUpdate\": \"cubicOut\",\n",
       "    \"animationDelayUpdate\": 0,\n",
       "    \"aria\": {\n",
       "        \"enabled\": false\n",
       "    },\n",
       "    \"color\": [\n",
       "        \"#5470c6\",\n",
       "        \"#91cc75\",\n",
       "        \"#fac858\",\n",
       "        \"#ee6666\",\n",
       "        \"#73c0de\",\n",
       "        \"#3ba272\",\n",
       "        \"#fc8452\",\n",
       "        \"#9a60b4\",\n",
       "        \"#ea7ccc\"\n",
       "    ],\n",
       "    \"series\": [\n",
       "        {\n",
       "            \"type\": \"funnel\",\n",
       "            \"name\": \"\\u603b\\u4f53\\u8f6c\\u5316\\u7387\",\n",
       "            \"data\": [\n",
       "                {\n",
       "                    \"name\": \"\\u603b\\u8ba2\\u5355\\u6570\",\n",
       "                    \"value\": 100.0\n",
       "                },\n",
       "                {\n",
       "                    \"name\": \"\\u4ed8\\u6b3e\\u8ba2\\u5355\\u6570\",\n",
       "                    \"value\": 86.0\n",
       "                },\n",
       "                {\n",
       "                    \"name\": \"\\u5230\\u6b3e\\u8ba2\\u5355\\u6570\",\n",
       "                    \"value\": 68.0\n",
       "                },\n",
       "                {\n",
       "                    \"name\": \"\\u5168\\u989d\\u5230\\u6b3e\\u8ba2\\u5355\\u6570\",\n",
       "                    \"value\": 66.0\n",
       "                }\n",
       "            ],\n",
       "            \"min\": 0,\n",
       "            \"max\": 100,\n",
       "            \"minSize\": \"0%\",\n",
       "            \"maxSize\": \"100%\",\n",
       "            \"orient\": \"vertical\",\n",
       "            \"sort\": \"descending\",\n",
       "            \"gap\": 0,\n",
       "            \"legendHoverLink\": true,\n",
       "            \"funnelAlign\": \"center\",\n",
       "            \"label\": {\n",
       "                \"show\": true,\n",
       "                \"position\": \"inside\",\n",
       "                \"margin\": 8,\n",
       "                \"valueAnimation\": false\n",
       "            },\n",
       "            \"tooltip\": {\n",
       "                \"show\": true,\n",
       "                \"trigger\": \"item\",\n",
       "                \"triggerOn\": \"mousemove|click\",\n",
       "                \"axisPointer\": {\n",
       "                    \"type\": \"line\"\n",
       "                },\n",
       "                \"showContent\": true,\n",
       "                \"alwaysShowContent\": false,\n",
       "                \"showDelay\": 0,\n",
       "                \"hideDelay\": 100,\n",
       "                \"enterable\": false,\n",
       "                \"confine\": false,\n",
       "                \"appendToBody\": false,\n",
       "                \"transitionDuration\": 0.4,\n",
       "                \"formatter\": \"{a}<br/>{b} : {c}%\",\n",
       "                \"textStyle\": {\n",
       "                    \"fontSize\": 14\n",
       "                },\n",
       "                \"borderWidth\": 0,\n",
       "                \"padding\": 5,\n",
       "                \"order\": \"seriesAsc\"\n",
       "            },\n",
       "            \"selectedMode\": false,\n",
       "            \"zlevel\": 0,\n",
       "            \"z\": 2,\n",
       "            \"rippleEffect\": {\n",
       "                \"show\": true,\n",
       "                \"brushType\": \"stroke\",\n",
       "                \"scale\": 2.5,\n",
       "                \"period\": 4\n",
       "            }\n",
       "        }\n",
       "    ],\n",
       "    \"legend\": [\n",
       "        {\n",
       "            \"data\": [\n",
       "                \"\\u4ed8\\u6b3e\\u8ba2\\u5355\\u6570\",\n",
       "                \"\\u5168\\u989d\\u5230\\u6b3e\\u8ba2\\u5355\\u6570\",\n",
       "                \"\\u603b\\u8ba2\\u5355\\u6570\",\n",
       "                \"\\u5230\\u6b3e\\u8ba2\\u5355\\u6570\"\n",
       "            ],\n",
       "            \"selected\": {},\n",
       "            \"show\": true,\n",
       "            \"padding\": 5,\n",
       "            \"itemGap\": 10,\n",
       "            \"itemWidth\": 25,\n",
       "            \"itemHeight\": 14,\n",
       "            \"backgroundColor\": \"transparent\",\n",
       "            \"borderColor\": \"#ccc\",\n",
       "            \"borderRadius\": 0,\n",
       "            \"pageButtonItemGap\": 5,\n",
       "            \"pageButtonPosition\": \"end\",\n",
       "            \"pageFormatter\": \"{current}/{total}\",\n",
       "            \"pageIconColor\": \"#2f4554\",\n",
       "            \"pageIconInactiveColor\": \"#aaa\",\n",
       "            \"pageIconSize\": 15,\n",
       "            \"animationDurationUpdate\": 800,\n",
       "            \"selector\": false,\n",
       "            \"selectorPosition\": \"auto\",\n",
       "            \"selectorItemGap\": 7,\n",
       "            \"selectorButtonGap\": 10\n",
       "        }\n",
       "    ],\n",
       "    \"tooltip\": {\n",
       "        \"show\": true,\n",
       "        \"trigger\": \"item\",\n",
       "        \"triggerOn\": \"mousemove|click\",\n",
       "        \"axisPointer\": {\n",
       "            \"type\": \"line\"\n",
       "        },\n",
       "        \"showContent\": true,\n",
       "        \"alwaysShowContent\": false,\n",
       "        \"showDelay\": 0,\n",
       "        \"hideDelay\": 100,\n",
       "        \"enterable\": false,\n",
       "        \"confine\": false,\n",
       "        \"appendToBody\": false,\n",
       "        \"transitionDuration\": 0.4,\n",
       "        \"textStyle\": {\n",
       "            \"fontSize\": 14\n",
       "        },\n",
       "        \"borderWidth\": 0,\n",
       "        \"padding\": 5,\n",
       "        \"order\": \"seriesAsc\"\n",
       "    },\n",
       "    \"title\": [\n",
       "        {\n",
       "            \"show\": true,\n",
       "            \"text\": \"\\u603b\\u4f53\\u8f6c\\u5316\\u7387\",\n",
       "            \"target\": \"blank\",\n",
       "            \"subtarget\": \"blank\",\n",
       "            \"padding\": 5,\n",
       "            \"itemGap\": 10,\n",
       "            \"textAlign\": \"auto\",\n",
       "            \"textVerticalAlign\": \"auto\",\n",
       "            \"triggerEvent\": false\n",
       "        }\n",
       "    ]\n",
       "};\n",
       "                chart_5e59cf1ce6a34f05addaef95d08e5826.setOption(option_5e59cf1ce6a34f05addaef95d08e5826);\n",
       "        });\n",
       "    </script>\n"
      ],
      "text/plain": [
       "<pyecharts.render.display.HTML at 0x1585934acf0>"
      ]
     },
     "execution_count": 20,
     "metadata": {},
     "output_type": "execute_result"
    }
   ],
   "source": [
    "name = '总体转化率'\n",
    "funnel = (\n",
    "    Funnel()\n",
    "    .add(\n",
    "        series_name = name,\n",
    "        data_pair = [list(z) for z in zip(df_convs.index, df_convs['总体转化率'])],\n",
    "        label_opts = opts.LabelOpts(position = 'inside')\n",
    "    )\n",
    "    .set_series_opts(\n",
    "        tooltip_opts = opts.TooltipOpts(formatter = '{a}<br/>{b} : {c}%')\n",
    "    )\n",
    "    .set_global_opts(\n",
    "        title_opts = opts.TitleOpts(title = name)\n",
    "    )\n",
    ")\n",
    "funnel.render_notebook()"
   ]
  },
  {
   "cell_type": "code",
   "execution_count": 21,
   "id": "245e9ec4-e3bc-4049-bc29-129a184b59cd",
   "metadata": {},
   "outputs": [
    {
     "data": {
      "text/html": [
       "<div>\n",
       "<style scoped>\n",
       "    .dataframe tbody tr th:only-of-type {\n",
       "        vertical-align: middle;\n",
       "    }\n",
       "\n",
       "    .dataframe tbody tr th {\n",
       "        vertical-align: top;\n",
       "    }\n",
       "\n",
       "    .dataframe thead th {\n",
       "        text-align: right;\n",
       "    }\n",
       "</style>\n",
       "<table border=\"1\" class=\"dataframe\">\n",
       "  <thead>\n",
       "    <tr style=\"text-align: right;\">\n",
       "      <th></th>\n",
       "      <th>订单数</th>\n",
       "      <th>总体转化率</th>\n",
       "      <th>单一环节转化率</th>\n",
       "    </tr>\n",
       "  </thead>\n",
       "  <tbody>\n",
       "    <tr>\n",
       "      <th>总订单数</th>\n",
       "      <td>28010</td>\n",
       "      <td>100.0</td>\n",
       "      <td>100.0</td>\n",
       "    </tr>\n",
       "    <tr>\n",
       "      <th>付款订单数</th>\n",
       "      <td>24087</td>\n",
       "      <td>86.0</td>\n",
       "      <td>86.0</td>\n",
       "    </tr>\n",
       "    <tr>\n",
       "      <th>到款订单数</th>\n",
       "      <td>18955</td>\n",
       "      <td>68.0</td>\n",
       "      <td>79.0</td>\n",
       "    </tr>\n",
       "    <tr>\n",
       "      <th>全额到款订单数</th>\n",
       "      <td>18441</td>\n",
       "      <td>66.0</td>\n",
       "      <td>97.0</td>\n",
       "    </tr>\n",
       "  </tbody>\n",
       "</table>\n",
       "</div>"
      ],
      "text/plain": [
       "           订单数  总体转化率  单一环节转化率\n",
       "总订单数     28010  100.0    100.0\n",
       "付款订单数    24087   86.0     86.0\n",
       "到款订单数    18955   68.0     79.0\n",
       "全额到款订单数  18441   66.0     97.0"
      ]
     },
     "execution_count": 21,
     "metadata": {},
     "output_type": "execute_result"
    }
   ],
   "source": [
    "#添加单一环节转化率，每个环节除以上一环节\n",
    "name='单一环节转化率'\n",
    "single_convs =df_convs['订单数'].shift()\n",
    "df_convs[name]=single_convs.fillna(df_convs.loc['总订单数','订单数'])\n",
    "# df_convs[name] =(df_convs['订单数']/df_convs[name]*100).apply(lambda x : rour.\n",
    "df_convs[name] =round((df_convs['订单数']/df_convs[name]*100),0)\n",
    "df_convs"
   ]
  },
  {
   "cell_type": "code",
   "execution_count": 22,
   "id": "ca99f18c-9ded-4947-9447-b82716c1e8ca",
   "metadata": {},
   "outputs": [
    {
     "data": {
      "text/html": [
       "\n",
       "<script>\n",
       "    require.config({\n",
       "        paths: {\n",
       "            'echarts':'https://assets.pyecharts.org/assets/v5/echarts.min'\n",
       "        }\n",
       "    });\n",
       "</script>\n",
       "\n",
       "        <div id=\"f02ebdd8f27a446dbafcc1f23bae9b3f\" style=\"width:900px; height:500px;\"></div>\n",
       "\n",
       "<script>\n",
       "        require(['echarts'], function(echarts) {\n",
       "                var chart_f02ebdd8f27a446dbafcc1f23bae9b3f = echarts.init(\n",
       "                    document.getElementById('f02ebdd8f27a446dbafcc1f23bae9b3f'), 'white', {renderer: 'canvas', locale: 'ZH'});\n",
       "                var option_f02ebdd8f27a446dbafcc1f23bae9b3f = {\n",
       "    \"animation\": true,\n",
       "    \"animationThreshold\": 2000,\n",
       "    \"animationDuration\": 1000,\n",
       "    \"animationEasing\": \"cubicOut\",\n",
       "    \"animationDelay\": 0,\n",
       "    \"animationDurationUpdate\": 300,\n",
       "    \"animationEasingUpdate\": \"cubicOut\",\n",
       "    \"animationDelayUpdate\": 0,\n",
       "    \"aria\": {\n",
       "        \"enabled\": false\n",
       "    },\n",
       "    \"color\": [\n",
       "        \"#5470c6\",\n",
       "        \"#91cc75\",\n",
       "        \"#fac858\",\n",
       "        \"#ee6666\",\n",
       "        \"#73c0de\",\n",
       "        \"#3ba272\",\n",
       "        \"#fc8452\",\n",
       "        \"#9a60b4\",\n",
       "        \"#ea7ccc\"\n",
       "    ],\n",
       "    \"series\": [\n",
       "        {\n",
       "            \"type\": \"funnel\",\n",
       "            \"name\": \"\\u5355\\u4e00\\u73af\\u8282\\u8f6c\\u5316\\u7387\",\n",
       "            \"data\": [\n",
       "                {\n",
       "                    \"name\": \"\\u603b\\u8ba2\\u5355\\u6570\",\n",
       "                    \"value\": 100.0\n",
       "                },\n",
       "                {\n",
       "                    \"name\": \"\\u4ed8\\u6b3e\\u8ba2\\u5355\\u6570\",\n",
       "                    \"value\": 86.0\n",
       "                },\n",
       "                {\n",
       "                    \"name\": \"\\u5230\\u6b3e\\u8ba2\\u5355\\u6570\",\n",
       "                    \"value\": 68.0\n",
       "                },\n",
       "                {\n",
       "                    \"name\": \"\\u5168\\u989d\\u5230\\u6b3e\\u8ba2\\u5355\\u6570\",\n",
       "                    \"value\": 66.0\n",
       "                }\n",
       "            ],\n",
       "            \"min\": 0,\n",
       "            \"max\": 100,\n",
       "            \"minSize\": \"0%\",\n",
       "            \"maxSize\": \"100%\",\n",
       "            \"orient\": \"vertical\",\n",
       "            \"sort\": \"descending\",\n",
       "            \"gap\": 0,\n",
       "            \"legendHoverLink\": true,\n",
       "            \"funnelAlign\": \"center\",\n",
       "            \"label\": {\n",
       "                \"show\": true,\n",
       "                \"position\": \"inside\",\n",
       "                \"margin\": 8,\n",
       "                \"valueAnimation\": false\n",
       "            },\n",
       "            \"tooltip\": {\n",
       "                \"show\": true,\n",
       "                \"trigger\": \"item\",\n",
       "                \"triggerOn\": \"mousemove|click\",\n",
       "                \"axisPointer\": {\n",
       "                    \"type\": \"line\"\n",
       "                },\n",
       "                \"showContent\": true,\n",
       "                \"alwaysShowContent\": false,\n",
       "                \"showDelay\": 0,\n",
       "                \"hideDelay\": 100,\n",
       "                \"enterable\": false,\n",
       "                \"confine\": false,\n",
       "                \"appendToBody\": false,\n",
       "                \"transitionDuration\": 0.4,\n",
       "                \"formatter\": \"{a}<br/>{b} : {c}%\",\n",
       "                \"textStyle\": {\n",
       "                    \"fontSize\": 14\n",
       "                },\n",
       "                \"borderWidth\": 0,\n",
       "                \"padding\": 5,\n",
       "                \"order\": \"seriesAsc\"\n",
       "            },\n",
       "            \"selectedMode\": false,\n",
       "            \"zlevel\": 0,\n",
       "            \"z\": 2,\n",
       "            \"rippleEffect\": {\n",
       "                \"show\": true,\n",
       "                \"brushType\": \"stroke\",\n",
       "                \"scale\": 2.5,\n",
       "                \"period\": 4\n",
       "            }\n",
       "        }\n",
       "    ],\n",
       "    \"legend\": [\n",
       "        {\n",
       "            \"data\": [\n",
       "                \"\\u4ed8\\u6b3e\\u8ba2\\u5355\\u6570\",\n",
       "                \"\\u5168\\u989d\\u5230\\u6b3e\\u8ba2\\u5355\\u6570\",\n",
       "                \"\\u603b\\u8ba2\\u5355\\u6570\",\n",
       "                \"\\u5230\\u6b3e\\u8ba2\\u5355\\u6570\"\n",
       "            ],\n",
       "            \"selected\": {},\n",
       "            \"show\": true,\n",
       "            \"padding\": 5,\n",
       "            \"itemGap\": 10,\n",
       "            \"itemWidth\": 25,\n",
       "            \"itemHeight\": 14,\n",
       "            \"backgroundColor\": \"transparent\",\n",
       "            \"borderColor\": \"#ccc\",\n",
       "            \"borderRadius\": 0,\n",
       "            \"pageButtonItemGap\": 5,\n",
       "            \"pageButtonPosition\": \"end\",\n",
       "            \"pageFormatter\": \"{current}/{total}\",\n",
       "            \"pageIconColor\": \"#2f4554\",\n",
       "            \"pageIconInactiveColor\": \"#aaa\",\n",
       "            \"pageIconSize\": 15,\n",
       "            \"animationDurationUpdate\": 800,\n",
       "            \"selector\": false,\n",
       "            \"selectorPosition\": \"auto\",\n",
       "            \"selectorItemGap\": 7,\n",
       "            \"selectorButtonGap\": 10\n",
       "        }\n",
       "    ],\n",
       "    \"tooltip\": {\n",
       "        \"show\": true,\n",
       "        \"trigger\": \"item\",\n",
       "        \"triggerOn\": \"mousemove|click\",\n",
       "        \"axisPointer\": {\n",
       "            \"type\": \"line\"\n",
       "        },\n",
       "        \"showContent\": true,\n",
       "        \"alwaysShowContent\": false,\n",
       "        \"showDelay\": 0,\n",
       "        \"hideDelay\": 100,\n",
       "        \"enterable\": false,\n",
       "        \"confine\": false,\n",
       "        \"appendToBody\": false,\n",
       "        \"transitionDuration\": 0.4,\n",
       "        \"textStyle\": {\n",
       "            \"fontSize\": 14\n",
       "        },\n",
       "        \"borderWidth\": 0,\n",
       "        \"padding\": 5,\n",
       "        \"order\": \"seriesAsc\"\n",
       "    },\n",
       "    \"title\": [\n",
       "        {\n",
       "            \"show\": true,\n",
       "            \"text\": \"\\u5355\\u4e00\\u73af\\u8282\\u8f6c\\u5316\\u7387\",\n",
       "            \"target\": \"blank\",\n",
       "            \"subtarget\": \"blank\",\n",
       "            \"padding\": 5,\n",
       "            \"itemGap\": 10,\n",
       "            \"textAlign\": \"auto\",\n",
       "            \"textVerticalAlign\": \"auto\",\n",
       "            \"triggerEvent\": false\n",
       "        }\n",
       "    ]\n",
       "};\n",
       "                chart_f02ebdd8f27a446dbafcc1f23bae9b3f.setOption(option_f02ebdd8f27a446dbafcc1f23bae9b3f);\n",
       "        });\n",
       "    </script>\n"
      ],
      "text/plain": [
       "<pyecharts.render.display.HTML at 0x158593cd950>"
      ]
     },
     "execution_count": 22,
     "metadata": {},
     "output_type": "execute_result"
    }
   ],
   "source": [
    "name='单一环节转化率'\n",
    "funnel = Funnel().add(\n",
    "series_name = name,\n",
    "data_pair = [list(z)for z in zip(df_convs.index,df_convs['总体转化率'])],\n",
    "label_opts =opts.LabelOpts(position='inside')\n",
    ")\n",
    "funnel.set_series_opts(tooltip_opts = opts.TooltipOpts(formatter = '{a}<br/>{b} : {c}%'))\n",
    "funnel.set_global_opts(title_opts = opts.TitleOpts(title = name),\n",
    "                        )\n",
    "funnel.render_notebook()"
   ]
  },
  {
   "cell_type": "code",
   "execution_count": 23,
   "id": "d19a4d63-7f2e-47f7-a178-bf59efa835a6",
   "metadata": {},
   "outputs": [
    {
     "data": {
      "text/html": [
       "<div>\n",
       "<style scoped>\n",
       "    .dataframe tbody tr th:only-of-type {\n",
       "        vertical-align: middle;\n",
       "    }\n",
       "\n",
       "    .dataframe tbody tr th {\n",
       "        vertical-align: top;\n",
       "    }\n",
       "\n",
       "    .dataframe thead th {\n",
       "        text-align: right;\n",
       "    }\n",
       "</style>\n",
       "<table border=\"1\" class=\"dataframe\">\n",
       "  <thead>\n",
       "    <tr style=\"text-align: right;\">\n",
       "      <th></th>\n",
       "      <th>订单编号</th>\n",
       "      <th>总金额</th>\n",
       "      <th>买家实际支付金额</th>\n",
       "      <th>收货地址</th>\n",
       "      <th>订单付款时间</th>\n",
       "      <th>退款金额</th>\n",
       "    </tr>\n",
       "    <tr>\n",
       "      <th>订单创建时间</th>\n",
       "      <th></th>\n",
       "      <th></th>\n",
       "      <th></th>\n",
       "      <th></th>\n",
       "      <th></th>\n",
       "      <th></th>\n",
       "    </tr>\n",
       "  </thead>\n",
       "  <tbody>\n",
       "    <tr>\n",
       "      <th>2020-02-20 23:59:00</th>\n",
       "      <td>2</td>\n",
       "      <td>21.0</td>\n",
       "      <td>21.0</td>\n",
       "      <td>内蒙古自治区</td>\n",
       "      <td>2020/2/21 0:00</td>\n",
       "      <td>0.0</td>\n",
       "    </tr>\n",
       "  </tbody>\n",
       "</table>\n",
       "</div>"
      ],
      "text/plain": [
       "                     订单编号   总金额  买家实际支付金额    收货地址          订单付款时间  退款金额\n",
       "订单创建时间                                                                 \n",
       "2020-02-20 23:59:00     2  21.0      21.0  内蒙古自治区  2020/2/21 0:00   0.0"
      ]
     },
     "execution_count": 23,
     "metadata": {},
     "output_type": "execute_result"
    }
   ],
   "source": [
    "#按到款订单统计\n",
    "df_trans['订单创建时间']=df_trans['订单创建时间'].astype('datetime64[ns]')\n",
    "df_trans=df_trans.set_index('订单创建时间')\n",
    "df_trans.head(1)"
   ]
  },
  {
   "cell_type": "code",
   "execution_count": 24,
   "id": "dae1e2ce-0b81-4386-928e-2969dcf2d8fe",
   "metadata": {},
   "outputs": [
    {
     "data": {
      "text/plain": [
       "'订单编号'"
      ]
     },
     "execution_count": 24,
     "metadata": {},
     "output_type": "execute_result"
    },
    {
     "data": {
      "image/png": "[encoded data removed]",
      "text/plain": [
       "<Figure size 640x480 with 1 Axes>"
      ]
     },
     "metadata": {},
     "output_type": "display_data"
    }
   ],
   "source": [
    "se_trans_month = df_trans.resample('D')['订单编号'].count()\n",
    "se_trans_month.plot()\n",
    "se_trans_month.name"
   ]
  },
  {
   "cell_type": "code",
   "execution_count": 25,
   "id": "5758f92d-dcca-4868-8022-087935d27db1",
   "metadata": {},
   "outputs": [],
   "source": [
    "from pyecharts.charts import Line"
   ]
  },
  {
   "cell_type": "code",
   "execution_count": 26,
   "id": "9f539f5f-395e-41f1-a6e3-3edf83921e81",
   "metadata": {},
   "outputs": [
    {
     "data": {
      "text/html": [
       "\n",
       "<script>\n",
       "    require.config({\n",
       "        paths: {\n",
       "            'echarts':'https://assets.pyecharts.org/assets/v5/echarts.min'\n",
       "        }\n",
       "    });\n",
       "</script>\n",
       "\n",
       "        <div id=\"5917686de11147729aa003d02170a88f\" style=\"width:900px; height:500px;\"></div>\n",
       "\n",
       "<script>\n",
       "        require(['echarts'], function(echarts) {\n",
       "                var chart_5917686de11147729aa003d02170a88f = echarts.init(\n",
       "                    document.getElementById('5917686de11147729aa003d02170a88f'), 'white', {renderer: 'canvas', locale: 'ZH'});\n",
       "                var option_5917686de11147729aa003d02170a88f = {\n",
       "    \"animation\": true,\n",
       "    \"animationThreshold\": 2000,\n",
       "    \"animationDuration\": 1000,\n",
       "    \"animationEasing\": \"cubicOut\",\n",
       "    \"animationDelay\": 0,\n",
       "    \"animationDurationUpdate\": 300,\n",
       "    \"animationEasingUpdate\": \"cubicOut\",\n",
       "    \"animationDelayUpdate\": 0,\n",
       "    \"aria\": {\n",
       "        \"enabled\": false\n",
       "    },\n",
       "    \"color\": [\n",
       "        \"#5470c6\",\n",
       "        \"#91cc75\",\n",
       "        \"#fac858\",\n",
       "        \"#ee6666\",\n",
       "        \"#73c0de\",\n",
       "        \"#3ba272\",\n",
       "        \"#fc8452\",\n",
       "        \"#9a60b4\",\n",
       "        \"#ea7ccc\"\n",
       "    ],\n",
       "    \"series\": [\n",
       "        {\n",
       "            \"type\": \"funnel\",\n",
       "            \"name\": \"\\u5355\\u4e00\\u73af\\u8282\\u8f6c\\u5316\\u7387\",\n",
       "            \"data\": [\n",
       "                {\n",
       "                    \"name\": \"\\u603b\\u8ba2\\u5355\\u6570\",\n",
       "                    \"value\": 100.0\n",
       "                },\n",
       "                {\n",
       "                    \"name\": \"\\u4ed8\\u6b3e\\u8ba2\\u5355\\u6570\",\n",
       "                    \"value\": 86.0\n",
       "                },\n",
       "                {\n",
       "                    \"name\": \"\\u5230\\u6b3e\\u8ba2\\u5355\\u6570\",\n",
       "                    \"value\": 68.0\n",
       "                },\n",
       "                {\n",
       "                    \"name\": \"\\u5168\\u989d\\u5230\\u6b3e\\u8ba2\\u5355\\u6570\",\n",
       "                    \"value\": 66.0\n",
       "                }\n",
       "            ],\n",
       "            \"min\": 0,\n",
       "            \"max\": 100,\n",
       "            \"minSize\": \"0%\",\n",
       "            \"maxSize\": \"100%\",\n",
       "            \"orient\": \"vertical\",\n",
       "            \"sort\": \"descending\",\n",
       "            \"gap\": 0,\n",
       "            \"legendHoverLink\": true,\n",
       "            \"funnelAlign\": \"center\",\n",
       "            \"label\": {\n",
       "                \"show\": true,\n",
       "                \"position\": \"inside\",\n",
       "                \"margin\": 8,\n",
       "                \"valueAnimation\": false\n",
       "            },\n",
       "            \"tooltip\": {\n",
       "                \"show\": true,\n",
       "                \"trigger\": \"item\",\n",
       "                \"triggerOn\": \"mousemove|click\",\n",
       "                \"axisPointer\": {\n",
       "                    \"type\": \"line\"\n",
       "                },\n",
       "                \"showContent\": true,\n",
       "                \"alwaysShowContent\": false,\n",
       "                \"showDelay\": 0,\n",
       "                \"hideDelay\": 100,\n",
       "                \"enterable\": false,\n",
       "                \"confine\": false,\n",
       "                \"appendToBody\": false,\n",
       "                \"transitionDuration\": 0.4,\n",
       "                \"formatter\": \"{a}<br/>{b} : {c}%\",\n",
       "                \"textStyle\": {\n",
       "                    \"fontSize\": 14\n",
       "                },\n",
       "                \"borderWidth\": 0,\n",
       "                \"padding\": 5,\n",
       "                \"order\": \"seriesAsc\"\n",
       "            },\n",
       "            \"selectedMode\": false,\n",
       "            \"zlevel\": 0,\n",
       "            \"z\": 2,\n",
       "            \"rippleEffect\": {\n",
       "                \"show\": true,\n",
       "                \"brushType\": \"stroke\",\n",
       "                \"scale\": 2.5,\n",
       "                \"period\": 4\n",
       "            }\n",
       "        }\n",
       "    ],\n",
       "    \"legend\": [\n",
       "        {\n",
       "            \"data\": [\n",
       "                \"\\u4ed8\\u6b3e\\u8ba2\\u5355\\u6570\",\n",
       "                \"\\u5168\\u989d\\u5230\\u6b3e\\u8ba2\\u5355\\u6570\",\n",
       "                \"\\u603b\\u8ba2\\u5355\\u6570\",\n",
       "                \"\\u5230\\u6b3e\\u8ba2\\u5355\\u6570\"\n",
       "            ],\n",
       "            \"selected\": {},\n",
       "            \"show\": true,\n",
       "            \"padding\": 5,\n",
       "            \"itemGap\": 10,\n",
       "            \"itemWidth\": 25,\n",
       "            \"itemHeight\": 14,\n",
       "            \"backgroundColor\": \"transparent\",\n",
       "            \"borderColor\": \"#ccc\",\n",
       "            \"borderRadius\": 0,\n",
       "            \"pageButtonItemGap\": 5,\n",
       "            \"pageButtonPosition\": \"end\",\n",
       "            \"pageFormatter\": \"{current}/{total}\",\n",
       "            \"pageIconColor\": \"#2f4554\",\n",
       "            \"pageIconInactiveColor\": \"#aaa\",\n",
       "            \"pageIconSize\": 15,\n",
       "            \"animationDurationUpdate\": 800,\n",
       "            \"selector\": false,\n",
       "            \"selectorPosition\": \"auto\",\n",
       "            \"selectorItemGap\": 7,\n",
       "            \"selectorButtonGap\": 10\n",
       "        }\n",
       "    ],\n",
       "    \"tooltip\": {\n",
       "        \"show\": true,\n",
       "        \"trigger\": \"item\",\n",
       "        \"triggerOn\": \"mousemove|click\",\n",
       "        \"axisPointer\": {\n",
       "            \"type\": \"line\"\n",
       "        },\n",
       "        \"showContent\": true,\n",
       "        \"alwaysShowContent\": false,\n",
       "        \"showDelay\": 0,\n",
       "        \"hideDelay\": 100,\n",
       "        \"enterable\": false,\n",
       "        \"confine\": false,\n",
       "        \"appendToBody\": false,\n",
       "        \"transitionDuration\": 0.4,\n",
       "        \"textStyle\": {\n",
       "            \"fontSize\": 14\n",
       "        },\n",
       "        \"borderWidth\": 0,\n",
       "        \"padding\": 5,\n",
       "        \"order\": \"seriesAsc\"\n",
       "    },\n",
       "    \"title\": [\n",
       "        {\n",
       "            \"show\": true,\n",
       "            \"text\": \"\\u5355\\u4e00\\u73af\\u8282\\u8f6c\\u5316\\u7387\",\n",
       "            \"target\": \"blank\",\n",
       "            \"subtarget\": \"blank\",\n",
       "            \"padding\": 5,\n",
       "            \"itemGap\": 10,\n",
       "            \"textAlign\": \"auto\",\n",
       "            \"textVerticalAlign\": \"auto\",\n",
       "            \"triggerEvent\": false\n",
       "        }\n",
       "    ]\n",
       "};\n",
       "                chart_5917686de11147729aa003d02170a88f.setOption(option_5917686de11147729aa003d02170a88f);\n",
       "        });\n",
       "    </script>\n"
      ],
      "text/plain": [
       "<pyecharts.render.display.HTML at 0x158593cf750>"
      ]
     },
     "execution_count": 26,
     "metadata": {},
     "output_type": "execute_result"
    }
   ],
   "source": [
    "name ='订单数'\n",
    "(\n",
    "Line()\n",
    ".add_xaxis(xaxis_data =list(se_trans_month.index.day.map(str)))\n",
    ".add_yaxis(\n",
    "series_name= name,\n",
    "y_axis= se_trans_month,\n",
    ")\n",
    ".set_global_opts(\n",
    "yaxis_opts = opts.AxisOpts(\n",
    "splitline_opts = opts.SplitLineOpts(is_show= True)\n",
    ")\n",
    ")\n",
    "\n",
    ")\n",
    "funnel.render_notebook()"
   ]
  },
  {
   "cell_type": "code",
   "execution_count": 27,
   "id": "08db9e16-e6c6-4c32-b8b2-55c3a719c161",
   "metadata": {},
   "outputs": [
    {
     "data": {
      "text/plain": [
       "np.float64(100.36861777895014)"
      ]
     },
     "execution_count": 27,
     "metadata": {},
     "output_type": "execute_result"
    }
   ],
   "source": [
    "df_trans['买家实际支付金额'].mean()"
   ]
  },
  {
   "cell_type": "code",
   "execution_count": 28,
   "id": "3b43b687-48d3-40b5-98b5-201a39d856fd",
   "metadata": {},
   "outputs": [
    {
     "data": {
      "text/plain": [
       "<Axes: xlabel='收货地址'>"
      ]
     },
     "execution_count": 28,
     "metadata": {},
     "output_type": "execute_result"
    },
    {
     "data": {
      "image/png": "[encoded data removed]",
      "text/plain": [
       "<Figure size 640x480 with 1 Axes>"
      ]
     },
     "metadata": {},
     "output_type": "display_data"
    }
   ],
   "source": [
    "se_trans_map=df_trans.groupby('收货地址')['收货地址'].count().sort_values(ascending=False)\n",
    "plt.figure(dpi=100)\n",
    "se_trans_map.plot(kind ='bar')\n",
    "# len(se_trans_map)"
   ]
  },
  {
   "cell_type": "code",
   "execution_count": 29,
   "id": "b87a0c9f-a358-4cd9-8be8-518665658b3c",
   "metadata": {},
   "outputs": [
    {
     "data": {
      "text/plain": [
       "Index(['订单编号', '总金额', '买家实际支付金额', '收货地址', '订单创建时间', '订单付款时间', '退款金额'], dtype='object')"
      ]
     },
     "execution_count": 29,
     "metadata": {},
     "output_type": "execute_result"
    }
   ],
   "source": [
    "df.columns"
   ]
  },
  {
   "cell_type": "code",
   "execution_count": 30,
   "id": "12458d65-0fdc-4f3c-a1de-4dd39e0c8344",
   "metadata": {},
   "outputs": [],
   "source": [
    "#为了保持由于下面的地理分布图使用的省份名称一致，定义一个处理自治区的函数\n",
    "def strip_region(iterable):\n",
    "    result = []\n",
    "    for i in iterable:\n",
    "        if i.endswith('自治区'):\n",
    "            if i == '内蒙古自治区':\n",
    "                i = i[:3]\n",
    "                result.append(i)\n",
    "            else:\n",
    "                result.append(i[:2])\n",
    "        else:\n",
    "            result.append(i)\n",
    "    return result"
   ]
  },
  {
   "cell_type": "code",
   "execution_count": 31,
   "id": "892a22c1-2a9a-4209-a5b7-7c908c5d3382",
   "metadata": {},
   "outputs": [],
   "source": [
    "#处理自治区，\n",
    "se_trans_map.index = strip_region(se_trans_map.index)\n",
    "#去掉末位“省”字\n",
    "se_trans_map.index = se_trans_map.index.str.strip('省')"
   ]
  },
  {
   "cell_type": "code",
   "execution_count": 32,
   "id": "10027f3c-4b6a-48de-bfbf-0646f423f4f2",
   "metadata": {},
   "outputs": [],
   "source": [
    "import pyecharts.options as opts\n",
    "from pyecharts.charts import Map"
   ]
  },
  {
   "cell_type": "code",
   "execution_count": 33,
   "id": "d2b25e9d-f038-42c7-9502-85e8192705ab",
   "metadata": {},
   "outputs": [
    {
     "data": {
      "text/html": [
       "\n",
       "<script>\n",
       "    require.config({\n",
       "        paths: {\n",
       "            'echarts':'https://assets.pyecharts.org/assets/v5/echarts.min'\n",
       "        }\n",
       "    });\n",
       "</script>\n",
       "\n",
       "        <div id=\"82992231418c453ab67ea75c323681d2\" style=\"width:900px; height:500px;\"></div>\n",
       "\n",
       "<script>\n",
       "        require(['echarts'], function(echarts) {\n",
       "                var chart_82992231418c453ab67ea75c323681d2 = echarts.init(\n",
       "                    document.getElementById('82992231418c453ab67ea75c323681d2'), 'white', {renderer: 'canvas', locale: 'ZH'});\n",
       "                var option_82992231418c453ab67ea75c323681d2 = {\n",
       "    \"animation\": true,\n",
       "    \"animationThreshold\": 2000,\n",
       "    \"animationDuration\": 1000,\n",
       "    \"animationEasing\": \"cubicOut\",\n",
       "    \"animationDelay\": 0,\n",
       "    \"animationDurationUpdate\": 300,\n",
       "    \"animationEasingUpdate\": \"cubicOut\",\n",
       "    \"animationDelayUpdate\": 0,\n",
       "    \"aria\": {\n",
       "        \"enabled\": false\n",
       "    },\n",
       "    \"color\": [\n",
       "        \"#5470c6\",\n",
       "        \"#91cc75\",\n",
       "        \"#fac858\",\n",
       "        \"#ee6666\",\n",
       "        \"#73c0de\",\n",
       "        \"#3ba272\",\n",
       "        \"#fc8452\",\n",
       "        \"#9a60b4\",\n",
       "        \"#ea7ccc\"\n",
       "    ],\n",
       "    \"series\": [\n",
       "        {\n",
       "            \"type\": \"funnel\",\n",
       "            \"name\": \"\\u5355\\u4e00\\u73af\\u8282\\u8f6c\\u5316\\u7387\",\n",
       "            \"data\": [\n",
       "                {\n",
       "                    \"name\": \"\\u603b\\u8ba2\\u5355\\u6570\",\n",
       "                    \"value\": 100.0\n",
       "                },\n",
       "                {\n",
       "                    \"name\": \"\\u4ed8\\u6b3e\\u8ba2\\u5355\\u6570\",\n",
       "                    \"value\": 86.0\n",
       "                },\n",
       "                {\n",
       "                    \"name\": \"\\u5230\\u6b3e\\u8ba2\\u5355\\u6570\",\n",
       "                    \"value\": 68.0\n",
       "                },\n",
       "                {\n",
       "                    \"name\": \"\\u5168\\u989d\\u5230\\u6b3e\\u8ba2\\u5355\\u6570\",\n",
       "                    \"value\": 66.0\n",
       "                }\n",
       "            ],\n",
       "            \"min\": 0,\n",
       "            \"max\": 100,\n",
       "            \"minSize\": \"0%\",\n",
       "            \"maxSize\": \"100%\",\n",
       "            \"orient\": \"vertical\",\n",
       "            \"sort\": \"descending\",\n",
       "            \"gap\": 0,\n",
       "            \"legendHoverLink\": true,\n",
       "            \"funnelAlign\": \"center\",\n",
       "            \"label\": {\n",
       "                \"show\": true,\n",
       "                \"position\": \"inside\",\n",
       "                \"margin\": 8,\n",
       "                \"valueAnimation\": false\n",
       "            },\n",
       "            \"tooltip\": {\n",
       "                \"show\": true,\n",
       "                \"trigger\": \"item\",\n",
       "                \"triggerOn\": \"mousemove|click\",\n",
       "                \"axisPointer\": {\n",
       "                    \"type\": \"line\"\n",
       "                },\n",
       "                \"showContent\": true,\n",
       "                \"alwaysShowContent\": false,\n",
       "                \"showDelay\": 0,\n",
       "                \"hideDelay\": 100,\n",
       "                \"enterable\": false,\n",
       "                \"confine\": false,\n",
       "                \"appendToBody\": false,\n",
       "                \"transitionDuration\": 0.4,\n",
       "                \"formatter\": \"{a}<br/>{b} : {c}%\",\n",
       "                \"textStyle\": {\n",
       "                    \"fontSize\": 14\n",
       "                },\n",
       "                \"borderWidth\": 0,\n",
       "                \"padding\": 5,\n",
       "                \"order\": \"seriesAsc\"\n",
       "            },\n",
       "            \"selectedMode\": false,\n",
       "            \"zlevel\": 0,\n",
       "            \"z\": 2,\n",
       "            \"rippleEffect\": {\n",
       "                \"show\": true,\n",
       "                \"brushType\": \"stroke\",\n",
       "                \"scale\": 2.5,\n",
       "                \"period\": 4\n",
       "            }\n",
       "        }\n",
       "    ],\n",
       "    \"legend\": [\n",
       "        {\n",
       "            \"data\": [\n",
       "                \"\\u4ed8\\u6b3e\\u8ba2\\u5355\\u6570\",\n",
       "                \"\\u5168\\u989d\\u5230\\u6b3e\\u8ba2\\u5355\\u6570\",\n",
       "                \"\\u603b\\u8ba2\\u5355\\u6570\",\n",
       "                \"\\u5230\\u6b3e\\u8ba2\\u5355\\u6570\"\n",
       "            ],\n",
       "            \"selected\": {},\n",
       "            \"show\": true,\n",
       "            \"padding\": 5,\n",
       "            \"itemGap\": 10,\n",
       "            \"itemWidth\": 25,\n",
       "            \"itemHeight\": 14,\n",
       "            \"backgroundColor\": \"transparent\",\n",
       "            \"borderColor\": \"#ccc\",\n",
       "            \"borderRadius\": 0,\n",
       "            \"pageButtonItemGap\": 5,\n",
       "            \"pageButtonPosition\": \"end\",\n",
       "            \"pageFormatter\": \"{current}/{total}\",\n",
       "            \"pageIconColor\": \"#2f4554\",\n",
       "            \"pageIconInactiveColor\": \"#aaa\",\n",
       "            \"pageIconSize\": 15,\n",
       "            \"animationDurationUpdate\": 800,\n",
       "            \"selector\": false,\n",
       "            \"selectorPosition\": \"auto\",\n",
       "            \"selectorItemGap\": 7,\n",
       "            \"selectorButtonGap\": 10\n",
       "        }\n",
       "    ],\n",
       "    \"tooltip\": {\n",
       "        \"show\": true,\n",
       "        \"trigger\": \"item\",\n",
       "        \"triggerOn\": \"mousemove|click\",\n",
       "        \"axisPointer\": {\n",
       "            \"type\": \"line\"\n",
       "        },\n",
       "        \"showContent\": true,\n",
       "        \"alwaysShowContent\": false,\n",
       "        \"showDelay\": 0,\n",
       "        \"hideDelay\": 100,\n",
       "        \"enterable\": false,\n",
       "        \"confine\": false,\n",
       "        \"appendToBody\": false,\n",
       "        \"transitionDuration\": 0.4,\n",
       "        \"textStyle\": {\n",
       "            \"fontSize\": 14\n",
       "        },\n",
       "        \"borderWidth\": 0,\n",
       "        \"padding\": 5,\n",
       "        \"order\": \"seriesAsc\"\n",
       "    },\n",
       "    \"title\": [\n",
       "        {\n",
       "            \"show\": true,\n",
       "            \"text\": \"\\u5355\\u4e00\\u73af\\u8282\\u8f6c\\u5316\\u7387\",\n",
       "            \"target\": \"blank\",\n",
       "            \"subtarget\": \"blank\",\n",
       "            \"padding\": 5,\n",
       "            \"itemGap\": 10,\n",
       "            \"textAlign\": \"auto\",\n",
       "            \"textVerticalAlign\": \"auto\",\n",
       "            \"triggerEvent\": false\n",
       "        }\n",
       "    ]\n",
       "};\n",
       "                chart_82992231418c453ab67ea75c323681d2.setOption(option_82992231418c453ab67ea75c323681d2);\n",
       "        });\n",
       "    </script>\n"
      ],
      "text/plain": [
       "<pyecharts.render.display.HTML at 0x1585ad38d60>"
      ]
     },
     "execution_count": 33,
     "metadata": {},
     "output_type": "execute_result"
    }
   ],
   "source": [
    "# 展示地理分布图\n",
    "name='订单数'\n",
    "(\n",
    "Map()\n",
    ".add(\n",
    "series_name = name,\n",
    "data_pair= [list(i)for i in se_trans_map.items()])\n",
    ".set_global_opts(visualmap_opts=opts.VisualMapOpts(\n",
    "max_=max(se_trans_map)*0.6\n",
    ")\n",
    "                )\n",
    ")\n",
    "funnel.render_notebook()"
   ]
  },
  {
   "cell_type": "code",
   "execution_count": null,
   "id": "8fa39740-db9e-400d-8505-259c33c1775d",
   "metadata": {},
   "outputs": [],
   "source": []
  }
 ],
 "metadata": {
  "kernelspec": {
   "display_name": "Python 3",
   "language": "python",
   "name": "python3"
  },
  "language_info": {
   "codemirror_mode": {
    "name": "ipython",
    "version": 3
   },
   "file_extension": ".py",
   "mimetype": "text/x-python",
   "name": "python",
   "nbconvert_exporter": "python",
   "pygments_lexer": "ipython3",
   "version": "3.14.0"
  }
 },
 "nbformat": 4,
 "nbformat_minor": 5
}
