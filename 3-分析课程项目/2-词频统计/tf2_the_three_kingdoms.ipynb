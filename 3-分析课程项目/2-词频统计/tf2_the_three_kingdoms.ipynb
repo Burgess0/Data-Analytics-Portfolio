{
 "cells": [
  {
   "cell_type": "markdown",
   "metadata": {},
   "source": [
    "## 这部分是指定类型的频次统计"
   ]
  },
  {
   "cell_type": "markdown",
   "metadata": {},
   "source": [
    "## 1 词频统计"
   ]
  },
  {
   "cell_type": "markdown",
   "metadata": {},
   "source": [
    "## 统计文本中，指定人名的次数，步骤：\n",
    "+ 打开人名的文本\n",
    "+ 对人名进行列表化处理\n",
    "+ 打开文本\n",
    "+ 采用文本跟人名匹配的方式，进行人名统计（注：没有采用采用分词的方式）\n",
    "+ 用字典存储：人名-频次\n",
    "+ 画图展示"
   ]
  },
  {
   "cell_type": "code",
   "execution_count": 1,
   "metadata": {},
   "outputs": [],
   "source": [
    "# 文件的打开与关闭"
   ]
  },
  {
   "cell_type": "code",
   "execution_count": 2,
   "metadata": {},
   "outputs": [],
   "source": [
    "f_name = open('name.txt',encoding = 'ANSI')"
   ]
  },
  {
   "cell_type": "code",
   "execution_count": 3,
   "metadata": {},
   "outputs": [],
   "source": [
    "data_name = f_name.read()"
   ]
  },
  {
   "cell_type": "code",
   "execution_count": 7,
   "metadata": {},
   "outputs": [
    {
     "data": {
      "text/plain": [
       "'諸葛亮|關羽|劉備|曹操|孫權|關羽|張飛|呂布|周瑜|趙雲|龐統|司馬懿|黃忠|馬超'"
      ]
     },
     "execution_count": 7,
     "metadata": {},
     "output_type": "execute_result"
    }
   ],
   "source": [
    "data_name[:70]"
   ]
  },
  {
   "cell_type": "code",
   "execution_count": 5,
   "metadata": {},
   "outputs": [
    {
     "name": "stdout",
     "output_type": "stream",
     "text": [
      "諸葛亮|關羽|劉備|曹操|孫權|關羽|張飛|呂布|周瑜|趙雲|龐統|司馬懿|黃忠|馬超\n"
     ]
    }
   ],
   "source": [
    "print(data_name[:50])"
   ]
  },
  {
   "cell_type": "code",
   "execution_count": 8,
   "metadata": {},
   "outputs": [],
   "source": [
    "f_name.close()"
   ]
  },
  {
   "cell_type": "code",
   "execution_count": 9,
   "metadata": {},
   "outputs": [],
   "source": [
    "# 将文本转化为列表"
   ]
  },
  {
   "cell_type": "code",
   "execution_count": 11,
   "metadata": {},
   "outputs": [],
   "source": [
    "names = data_name.split('|') # split一下names就是列表"
   ]
  },
  {
   "cell_type": "code",
   "execution_count": 12,
   "metadata": {
    "scrolled": true
   },
   "outputs": [
    {
     "name": "stdout",
     "output_type": "stream",
     "text": [
      "['諸葛亮', '關羽', '劉備', '曹操', '孫權', '關羽', '張飛', '呂布', '周瑜', '趙雲', '龐統', '司馬懿', '黃忠', '馬超']\n"
     ]
    }
   ],
   "source": [
    "print(names)"
   ]
  },
  {
   "cell_type": "code",
   "execution_count": 13,
   "metadata": {
    "scrolled": true
   },
   "outputs": [
    {
     "data": {
      "text/plain": [
       "['諸葛亮',\n",
       " '關羽',\n",
       " '劉備',\n",
       " '曹操',\n",
       " '孫權',\n",
       " '關羽',\n",
       " '張飛',\n",
       " '呂布',\n",
       " '周瑜',\n",
       " '趙雲',\n",
       " '龐統',\n",
       " '司馬懿',\n",
       " '黃忠',\n",
       " '馬超']"
      ]
     },
     "execution_count": 13,
     "metadata": {},
     "output_type": "execute_result"
    }
   ],
   "source": [
    "names"
   ]
  },
  {
   "cell_type": "code",
   "execution_count": 11,
   "metadata": {},
   "outputs": [],
   "source": [
    "# 学习一种新的数据结构，字典"
   ]
  },
  {
   "cell_type": "code",
   "execution_count": 14,
   "metadata": {},
   "outputs": [],
   "source": [
    "name_dict = {}"
   ]
  },
  {
   "cell_type": "code",
   "execution_count": 15,
   "metadata": {},
   "outputs": [],
   "source": [
    "f_txt = open('sanguo.txt',encoding = 'ANSI')"
   ]
  },
  {
   "cell_type": "code",
   "execution_count": 16,
   "metadata": {},
   "outputs": [],
   "source": [
    "data_txt = f_txt.read()"
   ]
  },
  {
   "cell_type": "code",
   "execution_count": 17,
   "metadata": {},
   "outputs": [],
   "source": [
    "f_txt.close()"
   ]
  },
  {
   "cell_type": "code",
   "execution_count": 19,
   "metadata": {
    "scrolled": true
   },
   "outputs": [
    {
     "name": "stdout",
     "output_type": "stream",
     "text": [
      "《三国演义》（全）\n",
      "\n",
      "（明）羅貫中著\n",
      "\n",
      "  \n",
      "第一回\n",
      "宴桃園豪傑三結義斬黃巾英雄首立功\n",
      "話說天下大勢，分久必合，合久必分：周末七國分爭，並\n",
      "入于秦；及秦滅之後，楚、漢分爭，又並入於漢；漢朝自高祖\n",
      "斬白\n"
     ]
    }
   ],
   "source": [
    "print(data_txt[:100])"
   ]
  },
  {
   "cell_type": "code",
   "execution_count": 20,
   "metadata": {},
   "outputs": [],
   "source": [
    "# 用count函数统计文本中的词汇"
   ]
  },
  {
   "cell_type": "code",
   "execution_count": 22,
   "metadata": {},
   "outputs": [],
   "source": [
    "for name in names:\n",
    "    name_dict[name] = data_txt.count(name)"
   ]
  },
  {
   "cell_type": "code",
   "execution_count": 23,
   "metadata": {
    "scrolled": true
   },
   "outputs": [
    {
     "data": {
      "text/plain": [
       "{'諸葛亮': 149,\n",
       " '關羽': 8,\n",
       " '劉備': 291,\n",
       " '曹操': 907,\n",
       " '孫權': 315,\n",
       " '張飛': 347,\n",
       " '呂布': 332,\n",
       " '周瑜': 235,\n",
       " '趙雲': 301,\n",
       " '龐統': 80,\n",
       " '司馬懿': 272,\n",
       " '黃忠': 179,\n",
       " '馬超': 212}"
      ]
     },
     "execution_count": 23,
     "metadata": {},
     "output_type": "execute_result"
    }
   ],
   "source": [
    "name_dict"
   ]
  },
  {
   "cell_type": "code",
   "execution_count": 24,
   "metadata": {},
   "outputs": [],
   "source": [
    "# 定义  画图 函数"
   ]
  },
  {
   "cell_type": "code",
   "execution_count": 25,
   "metadata": {},
   "outputs": [],
   "source": [
    "def make_chinese_plot_ready():\n",
    "    from matplotlib import rcParams\n",
    "    #rcParams['font.family'] = 'sans-serif' # 从百度下载这个字体WenQuanYi Micro Hei，放到电脑的字体库中。怎么做？百度\n",
    "    rcParams['font.sans-serif'] = ['FangSong'] # 或者直接使用电脑有的字体 FangSong\n",
    "    rcParams['axes.unicode_minus'] = False"
   ]
  },
  {
   "cell_type": "code",
   "execution_count": 22,
   "metadata": {},
   "outputs": [],
   "source": [
    "# 定义 画图 函数"
   ]
  },
  {
   "cell_type": "code",
   "execution_count": 44,
   "metadata": {},
   "outputs": [],
   "source": [
    "def draw_dict(mydict, figsize=(8, 5)):\n",
    "    import pandas as pd\n",
    "    import matplotlib.pyplot as plt\n",
    "    make_chinese_plot_ready()\n",
    "    df = pd.DataFrame(list(mydict.items()), columns=['name', 'times'])\n",
    "    df.set_index('name')['times'].sort_values(ascending=False).plot(kind='bar', figsize=figsize)  # 做好排序\n",
    "    plt.tight_layout() "
   ]
  },
  {
   "cell_type": "code",
   "execution_count": 45,
   "metadata": {},
   "outputs": [
    {
     "name": "stdout",
     "output_type": "stream",
     "text": [
      "Populating the interactive namespace from numpy and matplotlib\n"
     ]
    }
   ],
   "source": [
    "%pylab inline"
   ]
  },
  {
   "cell_type": "code",
   "execution_count": 46,
   "metadata": {},
   "outputs": [
    {
     "data": {
      "image/png": "[encoded data removed]",
      "text/plain": [
       "<Figure size 576x360 with 1 Axes>"
      ]
     },
     "metadata": {},
     "output_type": "display_data"
    }
   ],
   "source": [
    "draw_dict(name_dict)"
   ]
  },
  {
   "cell_type": "code",
   "execution_count": null,
   "metadata": {},
   "outputs": [],
   "source": []
  },
  {
   "cell_type": "markdown",
   "metadata": {},
   "source": [
    "## 2 统计武器"
   ]
  },
  {
   "cell_type": "markdown",
   "metadata": {},
   "source": [
    "### 统计武器的步骤\n",
    "+ 打开武器文本\n",
    "+ 对文本进行处理，包括：去掉换行符，去掉空格，变成列表\n",
    "+ 打开文本\n",
    "+ 统计武器（采用文本与武器的字符进行匹配的方式，统计的。没有分词）\n",
    "+ 用字典存储结果：武器-频次\n",
    "+ 展示"
   ]
  },
  {
   "cell_type": "code",
   "execution_count": 29,
   "metadata": {},
   "outputs": [],
   "source": [
    "f_weapon = open('weapon.txt',encoding = 'utf-8')"
   ]
  },
  {
   "cell_type": "code",
   "execution_count": 30,
   "metadata": {},
   "outputs": [],
   "source": [
    "data_weapon = f_weapon.read()"
   ]
  },
  {
   "cell_type": "code",
   "execution_count": 32,
   "metadata": {},
   "outputs": [
    {
     "name": "stdout",
     "output_type": "stream",
     "text": [
      "青龍偃月刀\n",
      "\n",
      "丈八點鋼矛\n",
      "\n",
      "鐵脊蛇矛\n",
      "\n",
      "涯角槍\n",
      "\n",
      "諸葛槍\n",
      "\n",
      "方天畫戟\n",
      "\n",
      "長柄鐵錘\n",
      "\n",
      "鐵蒺藜骨朵\n",
      "\n",
      "大斧\n",
      "\n",
      "蘸金斧\n",
      "\n",
      "三尖刀\n",
      "\n",
      "截頭大刀\n",
      "\n",
      "馬岱寶刀\n",
      "\n",
      "古錠刀\n",
      "\n",
      "衠鋼槊\n",
      "\n",
      "丈八長標\n",
      "\n",
      "王雙大刀\n",
      "\n",
      "呂虔刀\n"
     ]
    }
   ],
   "source": [
    "print(data_weapon[:100])"
   ]
  },
  {
   "cell_type": "code",
   "execution_count": 33,
   "metadata": {},
   "outputs": [],
   "source": [
    "weapons_origin = data_weapon.split('\\n')"
   ]
  },
  {
   "cell_type": "code",
   "execution_count": 34,
   "metadata": {},
   "outputs": [
    {
     "name": "stdout",
     "output_type": "stream",
     "text": [
      "['青龍偃月刀', '', '丈八點鋼矛', '', '鐵脊蛇矛', '', '涯角槍', '', '諸葛槍', '', '方天畫戟', '', '長柄鐵錘', '', '鐵蒺藜骨朵', '', '大斧', '', '蘸金斧', '', '三尖刀', '', '截頭大刀', '', '馬岱寶刀', '', '古錠刀', '', '衠鋼槊', '', '丈八長標', '', '王雙大刀', '', '呂虔刀', '', '龍泉劍', '', '倚天劍', '']\n"
     ]
    }
   ],
   "source": [
    "print(weapons_origin[:40])"
   ]
  },
  {
   "cell_type": "code",
   "execution_count": 35,
   "metadata": {},
   "outputs": [],
   "source": [
    "weapons = []"
   ]
  },
  {
   "cell_type": "code",
   "execution_count": 37,
   "metadata": {},
   "outputs": [],
   "source": [
    "for weapon in weapons_origin:\n",
    "    if weapon != '':\n",
    "        weapons.append(weapon)"
   ]
  },
  {
   "cell_type": "code",
   "execution_count": 39,
   "metadata": {},
   "outputs": [
    {
     "data": {
      "text/plain": [
       "['青龍偃月刀',\n",
       " '丈八點鋼矛',\n",
       " '鐵脊蛇矛',\n",
       " '涯角槍',\n",
       " '諸葛槍',\n",
       " '方天畫戟',\n",
       " '長柄鐵錘',\n",
       " '鐵蒺藜骨朵',\n",
       " '大斧',\n",
       " '蘸金斧',\n",
       " '三尖刀',\n",
       " '截頭大刀',\n",
       " '馬岱寶刀',\n",
       " '古錠刀',\n",
       " '衠鋼槊',\n",
       " '丈八長標',\n",
       " '王雙大刀',\n",
       " '呂虔刀',\n",
       " '龍泉劍',\n",
       " '倚天劍',\n",
       " '青釭',\n",
       " '七寶刀',\n",
       " '雙股劍',\n",
       " '松紋廂寶劍',\n",
       " '孟德劍',\n",
       " '思召劍',\n",
       " '飛景三劍',\n",
       " '文士劍',\n",
       " '蜀八劍',\n",
       " '鎮山劍',\n",
       " '吳六劍',\n",
       " '皇帝吳王劍',\n",
       " '日月刀',\n",
       " '百辟寶刀',\n",
       " '龍鱗刀',\n",
       " '百辟匕首二',\n",
       " '鐵鞭',\n",
       " '鋼鞭',\n",
       " '四楞鐵簡',\n",
       " '雙鐵戟',\n",
       " '諸葛連弩',\n",
       " '寶雕弓',\n",
       " '鵲畫弓',\n",
       " '虎筋弦弓',\n",
       " '兩石力之弓',\n",
       " '手戟',\n",
       " '短戟',\n",
       " '飛石',\n",
       " '流星錘',\n",
       " '銅撾',\n",
       " '青龍偃月刀',\n",
       " '丈八點鋼矛',\n",
       " '鐵脊蛇矛',\n",
       " '涯角槍',\n",
       " '諸葛槍',\n",
       " '方天畫戟',\n",
       " '長柄鐵錘',\n",
       " '鐵蒺藜骨朵',\n",
       " '大斧',\n",
       " '蘸金斧',\n",
       " '三尖刀',\n",
       " '截頭大刀',\n",
       " '馬岱寶刀',\n",
       " '古錠刀',\n",
       " '衠鋼槊',\n",
       " '丈八長標',\n",
       " '王雙大刀',\n",
       " '呂虔刀',\n",
       " '龍泉劍',\n",
       " '倚天劍',\n",
       " '青釭',\n",
       " '七寶刀',\n",
       " '雙股劍',\n",
       " '松紋廂寶劍',\n",
       " '孟德劍',\n",
       " '思召劍',\n",
       " '飛景三劍',\n",
       " '文士劍',\n",
       " '蜀八劍',\n",
       " '鎮山劍',\n",
       " '吳六劍',\n",
       " '皇帝吳王劍',\n",
       " '日月刀',\n",
       " '百辟寶刀',\n",
       " '龍鱗刀',\n",
       " '百辟匕首二',\n",
       " '鐵鞭',\n",
       " '鋼鞭',\n",
       " '四楞鐵簡',\n",
       " '雙鐵戟',\n",
       " '諸葛連弩',\n",
       " '寶雕弓',\n",
       " '鵲畫弓',\n",
       " '虎筋弦弓',\n",
       " '兩石力之弓',\n",
       " '手戟',\n",
       " '短戟',\n",
       " '飛石',\n",
       " '流星錘',\n",
       " '銅撾']"
      ]
     },
     "execution_count": 39,
     "metadata": {},
     "output_type": "execute_result"
    }
   ],
   "source": [
    "weapons[:500]"
   ]
  },
  {
   "cell_type": "code",
   "execution_count": 40,
   "metadata": {},
   "outputs": [],
   "source": [
    "weapon_dict = {}"
   ]
  },
  {
   "cell_type": "code",
   "execution_count": 41,
   "metadata": {},
   "outputs": [],
   "source": [
    "for weapon in weapons:\n",
    "    weapon_dict[weapon] = data_txt.count(weapon)"
   ]
  },
  {
   "cell_type": "code",
   "execution_count": 42,
   "metadata": {},
   "outputs": [
    {
     "data": {
      "text/plain": [
       "{'青龍偃月刀': 2,\n",
       " '丈八點鋼矛': 4,\n",
       " '鐵脊蛇矛': 1,\n",
       " '涯角槍': 0,\n",
       " '諸葛槍': 0,\n",
       " '方天畫戟': 2,\n",
       " '長柄鐵錘': 0,\n",
       " '鐵蒺藜骨朵': 0,\n",
       " '大斧': 14,\n",
       " '蘸金斧': 1,\n",
       " '三尖刀': 1,\n",
       " '截頭大刀': 1,\n",
       " '馬岱寶刀': 0,\n",
       " '古錠刀': 1,\n",
       " '衠鋼槊': 0,\n",
       " '丈八長標': 1,\n",
       " '王雙大刀': 0,\n",
       " '呂虔刀': 0,\n",
       " '龍泉劍': 0,\n",
       " '倚天劍': 1,\n",
       " '青釭': 0,\n",
       " '七寶刀': 1,\n",
       " '雙股劍': 3,\n",
       " '松紋廂寶劍': 0,\n",
       " '孟德劍': 0,\n",
       " '思召劍': 0,\n",
       " '飛景三劍': 0,\n",
       " '文士劍': 0,\n",
       " '蜀八劍': 0,\n",
       " '鎮山劍': 0,\n",
       " '吳六劍': 0,\n",
       " '皇帝吳王劍': 0,\n",
       " '日月刀': 1,\n",
       " '百辟寶刀': 0,\n",
       " '龍鱗刀': 0,\n",
       " '百辟匕首二': 0,\n",
       " '鐵鞭': 1,\n",
       " '鋼鞭': 2,\n",
       " '四楞鐵簡': 1,\n",
       " '雙鐵戟': 2,\n",
       " '諸葛連弩': 0,\n",
       " '寶雕弓': 3,\n",
       " '鵲畫弓': 1,\n",
       " '虎筋弦弓': 0,\n",
       " '兩石力之弓': 0,\n",
       " '手戟': 0,\n",
       " '短戟': 2,\n",
       " '飛石': 2,\n",
       " '流星錘': 3,\n",
       " '銅撾': 0}"
      ]
     },
     "execution_count": 42,
     "metadata": {},
     "output_type": "execute_result"
    }
   ],
   "source": [
    "weapon_dict"
   ]
  },
  {
   "cell_type": "code",
   "execution_count": 49,
   "metadata": {},
   "outputs": [
    {
     "data": {
      "image/png": "[encoded data removed]",
      "text/plain": [
       "<Figure size 576x360 with 1 Axes>"
      ]
     },
     "metadata": {},
     "output_type": "display_data"
    }
   ],
   "source": [
    "draw_dict(weapon_dict)"
   ]
  },
  {
   "cell_type": "code",
   "execution_count": 50,
   "metadata": {},
   "outputs": [
    {
     "data": {
      "text/plain": [
       "<Figure size 432x288 with 0 Axes>"
      ]
     },
     "metadata": {},
     "output_type": "display_data"
    }
   ],
   "source": [
    "# 以上出的图看上去不清晰，如何保存清晰的图？\n",
    "plt.savefig('weapon000.png')"
   ]
  },
  {
   "cell_type": "code",
   "execution_count": null,
   "metadata": {},
   "outputs": [],
   "source": []
  }
 ],
 "metadata": {
  "kernelspec": {
   "display_name": "Python 3 (ipykernel)",
   "language": "python",
   "name": "python3"
  },
  "language_info": {
   "codemirror_mode": {
    "name": "ipython",
    "version": 3
   },
   "file_extension": ".py",
   "mimetype": "text/x-python",
   "name": "python",
   "nbconvert_exporter": "python",
   "pygments_lexer": "ipython3",
   "version": "3.9.7"
  }
 },
 "nbformat": 4,
 "nbformat_minor": 2
}
