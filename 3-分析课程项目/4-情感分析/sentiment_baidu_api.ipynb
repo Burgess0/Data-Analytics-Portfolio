{
 "cells": [
  {
   "cell_type": "code",
   "execution_count": 1,
   "metadata": {},
   "outputs": [],
   "source": [
    "from aip import AipNlp"
   ]
  },
  {
   "cell_type": "code",
   "execution_count": 2,
   "metadata": {},
   "outputs": [],
   "source": [
    "#你的 APPID AK SK \n",
    "#有了以下代码就可以引入百度SDK的情感分析工具包\n",
    "#而这一段账号是需要你向百度申请的"
   ]
  },
  {
   "cell_type": "code",
   "execution_count": 3,
   "metadata": {},
   "outputs": [],
   "source": [
    "APP_ID = '25910948'\n",
    "API_KEY = 'sK1RQT7f2pip0WL6c2bZsFMe'\n",
    "SECRET_KEY = 'DePszHxweiIGFeHRpB8jqAPasSqxHxOg '\n",
    "\n",
    "client = AipNlp(APP_ID, API_KEY, SECRET_KEY)"
   ]
  },
  {
   "cell_type": "code",
   "execution_count": 4,
   "metadata": {},
   "outputs": [],
   "source": [
    "text = \"人民至上，生命至上，人民幸福就是国家之福。习主席心系人民，努力为人民谋幸福。\""
   ]
  },
  {
   "cell_type": "code",
   "execution_count": 5,
   "metadata": {},
   "outputs": [],
   "source": [
    "#调用情感倾向分析 \n",
    "result_senti = client.sentimentClassify(text);"
   ]
  },
  {
   "cell_type": "code",
   "execution_count": 6,
   "metadata": {},
   "outputs": [
    {
     "data": {
      "text/plain": [
       "{'log_id': 5255285712708349478,\n",
       " 'text': '人民至上，生命至上，人民幸福就是国家之福。习主席心系人民，努力为人民谋幸福。',\n",
       " 'items': [{'positive_prob': 0.995687,\n",
       "   'confidence': 0.990416,\n",
       "   'negative_prob': 0.00431293,\n",
       "   'sentiment': 2}]}"
      ]
     },
     "execution_count": 6,
     "metadata": {},
     "output_type": "execute_result"
    }
   ],
   "source": [
    "#展示结果\n",
    "result_senti"
   ]
  },
  {
   "cell_type": "code",
   "execution_count": null,
   "metadata": {},
   "outputs": [],
   "source": []
  }
 ],
 "metadata": {
  "kernelspec": {
   "display_name": "Python 3 (ipykernel)",
   "language": "python",
   "name": "python3"
  },
  "language_info": {
   "codemirror_mode": {
    "name": "ipython",
    "version": 3
   },
   "file_extension": ".py",
   "mimetype": "text/x-python",
   "name": "python",
   "nbconvert_exporter": "python",
   "pygments_lexer": "ipython3",
   "version": "3.9.7"
  }
 },
 "nbformat": 4,
 "nbformat_minor": 2
}
