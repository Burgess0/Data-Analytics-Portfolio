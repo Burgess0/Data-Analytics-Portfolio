{
 "cells": [
  {
   "cell_type": "code",
   "execution_count": 1,
   "metadata": {},
   "outputs": [
    {
     "ename": "ModuleNotFoundError",
     "evalue": "No module named 'robot'",
     "output_type": "error",
     "traceback": [
      "\u001b[1;31m---------------------------------------------------------------------------\u001b[0m",
      "\u001b[1;31mModuleNotFoundError\u001b[0m                       Traceback (most recent call last)",
      "\u001b[1;32m<ipython-input-1-64f7f833276c>\u001b[0m in \u001b[0;36m<module>\u001b[1;34m()\u001b[0m\n\u001b[0;32m      1\u001b[0m \u001b[1;31m# 通过cmd使用pip安装了wxpy\u001b[0m\u001b[1;33m\u001b[0m\u001b[1;33m\u001b[0m\u001b[0m\n\u001b[0;32m      2\u001b[0m \u001b[1;31m# 现在导入模块\u001b[0m\u001b[1;33m\u001b[0m\u001b[1;33m\u001b[0m\u001b[0m\n\u001b[1;32m----> 3\u001b[1;33m \u001b[1;32mimport\u001b[0m \u001b[0mrobot\u001b[0m \u001b[1;32mas\u001b[0m \u001b[0mrobot\u001b[0m\u001b[1;33m\u001b[0m\u001b[0m\n\u001b[0m\u001b[0;32m      4\u001b[0m \u001b[1;32mfrom\u001b[0m \u001b[0mwxpy\u001b[0m \u001b[1;32mimport\u001b[0m \u001b[1;33m*\u001b[0m\u001b[1;33m\u001b[0m\u001b[0m\n",
      "\u001b[1;31mModuleNotFoundError\u001b[0m: No module named 'robot'"
     ]
    }
   ],
   "source": [
    "# 通过cmd使用pip安装了wxpy\n",
    "# 现在导入模块\n",
    "import robot as robot\n",
    "from wxpy import *"
   ]
  },
  {
   "cell_type": "code",
   "execution_count": 9,
   "metadata": {},
   "outputs": [
    {
     "name": "stderr",
     "output_type": "stream",
     "text": [
      "Please press confirm on your phone.\n",
      "Loading the contact, this may take a little while.\n",
      "Login successfully as little 吴\n"
     ]
    }
   ],
   "source": [
    "# 初始化机器人，扫码登陆\n",
    "# 出来的是一张扫码图片\n",
    "#robot = Bot()\n",
    "# 出来的是在结果行很大的扫码，不好用\n",
    "#robot = Bot(console_qr=True)\n",
    "# 启用缓存?反而打不开了\n",
    "#robot = Bot(console_qr=0.1, cache_path=True)\n",
    "#初始化机器人，选择缓存模式（扫码）登录\n",
    "robot = Bot(cache_path=True)"
   ]
  },
  {
   "cell_type": "code",
   "execution_count": null,
   "metadata": {},
   "outputs": [],
   "source": [
    "#获取好友、群、公众号信息\n",
    "robot.chats()\n",
    "# 结果保存在了wxpy.pkl文件中，但是乱码了，需要调整"
   ]
  },
  {
   "cell_type": "code",
   "execution_count": null,
   "metadata": {},
   "outputs": [],
   "source": [
    "# 获取好友统计信息\n",
    "Friends = robot.friends()\n",
    "# 如何让输出的结果换行？\n",
    "print(Friends, '\\n')\n",
    "print(Friends.stats_text())"
   ]
  },
  {
   "cell_type": "code",
   "execution_count": 5,
   "metadata": {},
   "outputs": [
    {
     "data": {
      "text/plain": [
       "↪ 文件传输助手 : Hello World! (Text)"
      ]
     },
     "execution_count": 5,
     "metadata": {},
     "output_type": "execute_result"
    }
   ],
   "source": [
    "# 发送消息\n",
    "# 给机器人自己发送消息\n",
    "robot.self.send('Hello World!')\n",
    "# 给文件传输助手发送消息\n",
    "robot.file_helper.send('Hello World!')\n",
    "# 两个结果是一样的？"
   ]
  },
  {
   "cell_type": "code",
   "execution_count": 6,
   "metadata": {},
   "outputs": [
    {
     "name": "stdout",
     "output_type": "stream",
     "text": [
      "<Friend: 张旭立-信管1502>\n"
     ]
    }
   ],
   "source": [
    "# 找到昵称为蒙爱的好友\n",
    "my_friend = robot.friends().search(u'张旭立-信管1502')[0]\n",
    "print(my_friend)"
   ]
  },
  {
   "cell_type": "code",
   "execution_count": 7,
   "metadata": {},
   "outputs": [
    {
     "data": {
      "text/plain": [
       "↪ 张旭立-信管1502 : 立立，这是机器人robot给你的问候~ (Text)"
      ]
     },
     "execution_count": 7,
     "metadata": {},
     "output_type": "execute_result"
    }
   ],
   "source": [
    "# 下面是各种发送\n",
    "### 暂未处理问题，视频传输不了\n",
    "# 发送文本\n",
    "my_friend.send('立立，这是机器人robot给你的问候~')\n",
    "# 发送图片\n",
    "#my_friend.send_image('wu.png')\n",
    "# 发送视频 ##\n",
    "#my_friend.send_video('ai.mov')\n",
    "# 发送文件\n",
    "#my_friend.send_file('ai.txt')\n",
    "# 以动态的方式发送图片\n",
    "#my_friend.send('@img@wu.png')"
   ]
  },
  {
   "cell_type": "code",
   "execution_count": null,
   "metadata": {},
   "outputs": [],
   "source": []
  },
  {
   "cell_type": "code",
   "execution_count": null,
   "metadata": {},
   "outputs": [],
   "source": []
  }
 ],
 "metadata": {
  "kernelspec": {
   "display_name": "Python 3",
   "language": "python",
   "name": "python3"
  },
  "language_info": {
   "codemirror_mode": {
    "name": "ipython",
    "version": 3
   },
   "file_extension": ".py",
   "mimetype": "text/x-python",
   "name": "python",
   "nbconvert_exporter": "python",
   "pygments_lexer": "ipython3",
   "version": "3.6.5"
  }
 },
 "nbformat": 4,
 "nbformat_minor": 2
}
