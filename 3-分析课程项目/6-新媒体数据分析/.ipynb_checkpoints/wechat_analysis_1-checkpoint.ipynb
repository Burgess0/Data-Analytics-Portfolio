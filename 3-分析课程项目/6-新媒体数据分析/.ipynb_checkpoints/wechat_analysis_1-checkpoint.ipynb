{
 "cells": [
  {
   "cell_type": "markdown",
   "metadata": {},
   "source": [
    "# 微信好友数据的收集和简单分析"
   ]
  },
  {
   "cell_type": "markdown",
   "metadata": {},
   "source": [
    "### 1.真的安装了很多包"
   ]
  },
  {
   "cell_type": "code",
   "execution_count": 1,
   "metadata": {},
   "outputs": [
    {
     "name": "stdout",
     "output_type": "stream",
     "text": [
      "█\r"
     ]
    }
   ],
   "source": [
    "import os #操作系统模块，文件读写啥的，离不开它\n",
    "import itchat  #专用的微信个人账号的接口\n",
    "import numpy as np #numpy，典型数据分析包\n",
    "import pandas as pd #pandas，典型数据分析包\n",
    "import matplotlib.pyplot as plt #老朋友，画图用的\n",
    "import jieba #老朋友\n",
    "from wordcloud import WordCloud \n",
    "from collections import Counter #collections是一个集合模块\n",
    "import re #正则表达式\n",
    "import io #读写文件的\n",
    "from wordcloud import WordCloud"
   ]
  },
  {
   "cell_type": "markdown",
   "metadata": {},
   "source": [
    "### 2.以下写了好些个函数，不过不用怕，细细分析下 ，都不难。这是一个用itchat登陆微信的函数"
   ]
  },
  {
   "cell_type": "code",
   "execution_count": 2,
   "metadata": {},
   "outputs": [],
   "source": [
    "def my_friends(): #登陆并获取好友信息\n",
    "     #二维码登陆\n",
    "    itchat.auto_login()\n",
    "    #获取好友信息 \n",
    "    friends = itchat.get_friends(update=True) #获取好友信息很简单，是不是\n",
    "    return friends #返回的变量还是很重要的，因为接下来的函数，就会用到这个变量"
   ]
  },
  {
   "cell_type": "markdown",
   "metadata": {},
   "source": [
    "### 3.对2中的信息进行抽取与分析，写了个性别统计函数。用来画性别统计图"
   ]
  },
  {
   "cell_type": "code",
   "execution_count": 3,
   "metadata": {},
   "outputs": [],
   "source": [
    "def my_friends_sex(friends):\n",
    "   \n",
    "    #创建一个字典用于存放好友性别信息\n",
    "    friends_sex = dict()\n",
    "    #定义好友性别信息字典的key，分别为男性，女性，其他\n",
    "    male    =  \"男性\"\n",
    "    female  =  \"女性\"\n",
    "    other   =  \"其他\"\n",
    " \n",
    "    #遍历列表中每一个好友的信息，     \n",
    "    for i in friends[1:]: \n",
    "        sex = i[\"Sex\"] #找到好友中的sex项\n",
    "        if sex == 1:\n",
    "            #字典操作，找到key并为其的值加1\n",
    "            friends_sex[male] = friends_sex.get(male,0) + 1\n",
    "        elif sex == 2:\n",
    "            friends_sex[female] = friends_sex.get(female,0) + 1\n",
    "        elif sex == 0 :\n",
    "            friends_sex[other] = friends_sex.get(other,0) + 1\n",
    "    #打印好友性别信息的字典\n",
    "    #print (friends_sex)\n",
    "    #好友总数，从第二个开始是因为第一个好友是自己\n",
    "    totle = len(friends[1:])\n",
    "    \n",
    "    proportion = [float(friends_sex[male])/totle*100,float(friends_sex[female])/totle*100,float(friends_sex[other])/totle*100]\n",
    "    print (\n",
    "       u\"男性好友：%.2f%% \" % (proportion[0])     +'\\n' +\n",
    "       u\"女性好友：%.2f%% \" % (proportion[1])   +'\\n' +\n",
    "       u\"其他：%.2f%% \"  % (proportion[2])\n",
    "       )\n",
    "    return friends_sex"
   ]
  },
  {
   "cell_type": "markdown",
   "metadata": {},
   "source": [
    "### 4.对2中的好友信息friends进行抽取，获得好友个性签名。用在词云图制作中"
   ]
  },
  {
   "cell_type": "code",
   "execution_count": 4,
   "metadata": {},
   "outputs": [],
   "source": [
    "def my_friends_style(friends):\n",
    "    #创建列表用于存放个性签名\n",
    "    style = []\n",
    "    for i in range(len(friends)):\n",
    "        #每一个好友的信息存放在列表中的字典里，此处获取到\n",
    "        i = friends[i]\n",
    "        #得到每个字典的个性签名的key，即Signature\n",
    "        #strip去除字符串首位的空格，replace去掉英文\n",
    "        Signature = i['Signature'].strip().replace('span','').replace('class','').replace('emoji','')\n",
    "        #通过正则表达式将签名中的特殊符号去掉，re.sub则相当于字符串操作中的replace\n",
    "        rep = re.compile('1f\\d+\\w*|[<>/=]')\n",
    "        Signature=rep.sub('',Signature)\n",
    "        #放入列表\n",
    "        style.append(Signature)\n",
    "    #join() 方法用于将序列中的元素以指定的字符连接生成一个新的字符串。\n",
    "    #此处将所有签名去除特殊符号和英文之后，拼接在一起\n",
    "    text = ''.join(style)\n",
    "    #将输出保存到文件，并用结巴来分词\n",
    "    with io.open('text.txt','a',encoding = 'utf-8') as f:\n",
    "        wordlist = jieba.cut(text,cut_all=False)\n",
    "        word_space_split = ' '.join(wordlist)\n",
    "        f.write(word_space_split)"
   ]
  },
  {
   "cell_type": "markdown",
   "metadata": {},
   "source": [
    "### 5.写了一个性别统计图函数"
   ]
  },
  {
   "cell_type": "code",
   "execution_count": 5,
   "metadata": {},
   "outputs": [],
   "source": [
    "def drow_sex(friends_sex):\n",
    "    #获取饼状图的标签和大小\n",
    "    labels = []\n",
    "    sizes = []\n",
    "    for key in friends_sex:\n",
    "        labels.append(key)\n",
    "        sizes.append(friends_sex[key])\n",
    "    #每块图的颜色，数量不足时会循环使用\n",
    "    colors = ['red', 'yellow', 'blue']\n",
    "    #每一块离中心的距离\n",
    "    explode = (0.1,0,0)\n",
    "    #autopct='%1.2f%%'百分数保留两位小数点；shadow=True,加阴影使图像更立体\n",
    "    #startangle起始角度，默认为0°，一般设置为90比较好看\n",
    "    plt.pie(sizes,explode=explode,labels=labels,colors=colors,autopct='%1.2f%%',shadow=True,startangle=90)\n",
    "    #设置图像的xy轴一致\n",
    "    plt.axis('equal')\n",
    "    #显示颜色和标签对应关系\n",
    "    plt.legend()\n",
    "    plt.suptitle(u\"微信好友性别统计图\")\n",
    "    #保存到本地，因为show之后会创建空白图层，所以必须在show之前保存\n",
    "    plt.savefig('好友性别饼状图.png')\n",
    "    plt.show()"
   ]
  },
  {
   "cell_type": "markdown",
   "metadata": {},
   "source": [
    "### 6.写了一个词云函数"
   ]
  },
  {
   "cell_type": "code",
   "execution_count": 6,
   "metadata": {},
   "outputs": [],
   "source": [
    "def wordart():\n",
    "    big_pic = imread('cat.jpg')\n",
    "    text = open(\"text.txt\",encoding='utf-8').read()\n",
    "    wordcloud_cn_x = WordCloud(mask=big_pic,width=800,height=600, background_color= 'white',scale=2.5, font_path=\"simsun.ttf\").generate(text)\n",
    "    plt.imshow(wordcloud_cn_x)\n",
    "    plt.axis('off')\n",
    "    #plt.savefig('词云.png') # 不要用这一句，出来的图不清晰\n",
    "    wordcloud_cn_x.to_file('词云.jpg') #出图清晰"
   ]
  },
  {
   "cell_type": "markdown",
   "metadata": {},
   "source": [
    "### 7.主函数。这里仔细看一看，主函数和之前的方法函数，有什么关系。"
   ]
  },
  {
   "cell_type": "code",
   "execution_count": null,
   "metadata": {},
   "outputs": [
    {
     "name": "stderr",
     "output_type": "stream",
     "text": [
      "Getting uuid of QR code.\n",
      "Downloading QR code.\n",
      "Please scan the QR code to log in.\n",
      "Please press confirm on your phone.\n",
      "Loading the contact, this may take a little while.\n",
      "Login successfully as little 吴\n"
     ]
    },
    {
     "name": "stdout",
     "output_type": "stream",
     "text": [
      "男性好友：48.03% \n",
      "女性好友：41.95% \n",
      "其他：10.02% \n"
     ]
    },
    {
     "name": "stderr",
     "output_type": "stream",
     "text": [
      "C:\\Users\\dell\\Anaconda33\\lib\\site-packages\\matplotlib\\backends\\backend_agg.py:211: RuntimeWarning: Glyph 30007 missing from current font.\n",
      "  font.set_text(s, 0.0, flags=flags)\n",
      "C:\\Users\\dell\\Anaconda33\\lib\\site-packages\\matplotlib\\backends\\backend_agg.py:211: RuntimeWarning: Glyph 24615 missing from current font.\n",
      "  font.set_text(s, 0.0, flags=flags)\n",
      "C:\\Users\\dell\\Anaconda33\\lib\\site-packages\\matplotlib\\backends\\backend_agg.py:180: RuntimeWarning: Glyph 30007 missing from current font.\n",
      "  font.set_text(s, 0, flags=flags)\n",
      "C:\\Users\\dell\\Anaconda33\\lib\\site-packages\\matplotlib\\backends\\backend_agg.py:180: RuntimeWarning: Glyph 24615 missing from current font.\n",
      "  font.set_text(s, 0, flags=flags)\n",
      "C:\\Users\\dell\\Anaconda33\\lib\\site-packages\\matplotlib\\backends\\backend_agg.py:211: RuntimeWarning: Glyph 22899 missing from current font.\n",
      "  font.set_text(s, 0.0, flags=flags)\n",
      "C:\\Users\\dell\\Anaconda33\\lib\\site-packages\\matplotlib\\backends\\backend_agg.py:180: RuntimeWarning: Glyph 22899 missing from current font.\n",
      "  font.set_text(s, 0, flags=flags)\n",
      "C:\\Users\\dell\\Anaconda33\\lib\\site-packages\\matplotlib\\backends\\backend_agg.py:211: RuntimeWarning: Glyph 20854 missing from current font.\n",
      "  font.set_text(s, 0.0, flags=flags)\n",
      "C:\\Users\\dell\\Anaconda33\\lib\\site-packages\\matplotlib\\backends\\backend_agg.py:211: RuntimeWarning: Glyph 20182 missing from current font.\n",
      "  font.set_text(s, 0.0, flags=flags)\n",
      "C:\\Users\\dell\\Anaconda33\\lib\\site-packages\\matplotlib\\backends\\backend_agg.py:180: RuntimeWarning: Glyph 20854 missing from current font.\n",
      "  font.set_text(s, 0, flags=flags)\n",
      "C:\\Users\\dell\\Anaconda33\\lib\\site-packages\\matplotlib\\backends\\backend_agg.py:180: RuntimeWarning: Glyph 20182 missing from current font.\n",
      "  font.set_text(s, 0, flags=flags)\n",
      "C:\\Users\\dell\\Anaconda33\\lib\\site-packages\\matplotlib\\backends\\backend_agg.py:211: RuntimeWarning: Glyph 24494 missing from current font.\n",
      "  font.set_text(s, 0.0, flags=flags)\n",
      "C:\\Users\\dell\\Anaconda33\\lib\\site-packages\\matplotlib\\backends\\backend_agg.py:211: RuntimeWarning: Glyph 20449 missing from current font.\n",
      "  font.set_text(s, 0.0, flags=flags)\n",
      "C:\\Users\\dell\\Anaconda33\\lib\\site-packages\\matplotlib\\backends\\backend_agg.py:211: RuntimeWarning: Glyph 22909 missing from current font.\n",
      "  font.set_text(s, 0.0, flags=flags)\n",
      "C:\\Users\\dell\\Anaconda33\\lib\\site-packages\\matplotlib\\backends\\backend_agg.py:211: RuntimeWarning: Glyph 21451 missing from current font.\n",
      "  font.set_text(s, 0.0, flags=flags)\n",
      "C:\\Users\\dell\\Anaconda33\\lib\\site-packages\\matplotlib\\backends\\backend_agg.py:211: RuntimeWarning: Glyph 21035 missing from current font.\n",
      "  font.set_text(s, 0.0, flags=flags)\n",
      "C:\\Users\\dell\\Anaconda33\\lib\\site-packages\\matplotlib\\backends\\backend_agg.py:211: RuntimeWarning: Glyph 32479 missing from current font.\n",
      "  font.set_text(s, 0.0, flags=flags)\n",
      "C:\\Users\\dell\\Anaconda33\\lib\\site-packages\\matplotlib\\backends\\backend_agg.py:211: RuntimeWarning: Glyph 35745 missing from current font.\n",
      "  font.set_text(s, 0.0, flags=flags)\n",
      "C:\\Users\\dell\\Anaconda33\\lib\\site-packages\\matplotlib\\backends\\backend_agg.py:211: RuntimeWarning: Glyph 22270 missing from current font.\n",
      "  font.set_text(s, 0.0, flags=flags)\n",
      "C:\\Users\\dell\\Anaconda33\\lib\\site-packages\\matplotlib\\backends\\backend_agg.py:180: RuntimeWarning: Glyph 24494 missing from current font.\n",
      "  font.set_text(s, 0, flags=flags)\n",
      "C:\\Users\\dell\\Anaconda33\\lib\\site-packages\\matplotlib\\backends\\backend_agg.py:180: RuntimeWarning: Glyph 20449 missing from current font.\n",
      "  font.set_text(s, 0, flags=flags)\n",
      "C:\\Users\\dell\\Anaconda33\\lib\\site-packages\\matplotlib\\backends\\backend_agg.py:180: RuntimeWarning: Glyph 22909 missing from current font.\n",
      "  font.set_text(s, 0, flags=flags)\n",
      "C:\\Users\\dell\\Anaconda33\\lib\\site-packages\\matplotlib\\backends\\backend_agg.py:180: RuntimeWarning: Glyph 21451 missing from current font.\n",
      "  font.set_text(s, 0, flags=flags)\n",
      "C:\\Users\\dell\\Anaconda33\\lib\\site-packages\\matplotlib\\backends\\backend_agg.py:180: RuntimeWarning: Glyph 21035 missing from current font.\n",
      "  font.set_text(s, 0, flags=flags)\n",
      "C:\\Users\\dell\\Anaconda33\\lib\\site-packages\\matplotlib\\backends\\backend_agg.py:180: RuntimeWarning: Glyph 32479 missing from current font.\n",
      "  font.set_text(s, 0, flags=flags)\n",
      "C:\\Users\\dell\\Anaconda33\\lib\\site-packages\\matplotlib\\backends\\backend_agg.py:180: RuntimeWarning: Glyph 35745 missing from current font.\n",
      "  font.set_text(s, 0, flags=flags)\n",
      "C:\\Users\\dell\\Anaconda33\\lib\\site-packages\\matplotlib\\backends\\backend_agg.py:180: RuntimeWarning: Glyph 22270 missing from current font.\n",
      "  font.set_text(s, 0, flags=flags)\n"
     ]
    },
    {
     "data": {
      "image/png": "[encoded data removed]",
      "text/plain": [
       "<Figure size 432x288 with 1 Axes>"
      ]
     },
     "metadata": {},
     "output_type": "display_data"
    },
    {
     "name": "stderr",
     "output_type": "stream",
     "text": [
      "Building prefix dict from the default dictionary ...\n"
     ]
    }
   ],
   "source": [
    "if __name__ == '__main__':\n",
    "    friends = my_friends() #首先登陆，并讲返回值存在friends变量里面\n",
    "    friends_sex = my_friends_sex(friends) #分析统计friends中的性别信息\n",
    "    drow_sex(friends_sex) ##画性别统计图\n",
    "    my_friends_style(friends) ##分析friends中的个性签名，不需要返回值，直接被wordart调用\n",
    "    %pylab inline \n",
    "    wordart() "
   ]
  },
  {
   "cell_type": "markdown",
   "metadata": {},
   "source": [
    "# 补充：如何将friends的信息存到scv文件中？"
   ]
  },
  {
   "cell_type": "markdown",
   "metadata": {},
   "source": [
    "这里就要涉及到刚才那么多代码的关键信息了，第2步，获取的friends数据到底是什么格式？里面有哪些字段的信息？运行下面的cell试一试。"
   ]
  },
  {
   "cell_type": "code",
   "execution_count": null,
   "metadata": {},
   "outputs": [],
   "source": [
    "friends ##运行之后，你会发现，是一个[]里面套着{}，也就是列表嵌套字典。好吧，有点复杂。但是就是，我们现在需要处理它"
   ]
  },
  {
   "cell_type": "code",
   "execution_count": 42,
   "metadata": {},
   "outputs": [
    {
     "data": {
      "text/plain": [
       "'南京'"
      ]
     },
     "execution_count": 42,
     "metadata": {},
     "output_type": "execute_result"
    }
   ],
   "source": [
    "friends[1] #我们看看第一个人的数据结构"
   ]
  },
  {
   "cell_type": "code",
   "execution_count": 43,
   "metadata": {},
   "outputs": [
    {
     "data": {
      "text/plain": [
       "'南京'"
      ]
     },
     "execution_count": 43,
     "metadata": {},
     "output_type": "execute_result"
    }
   ],
   "source": [
    "friends[1]['City'] ##我们再看看ta的具体信息，城市。我们还可以看其他数据项。"
   ]
  },
  {
   "cell_type": "markdown",
   "metadata": {},
   "source": [
    "这样分析之后，心里有数了。我们需要用到第5讲的代码，收集微博数据的时候，用到的csv代码"
   ]
  },
  {
   "cell_type": "code",
   "execution_count": 64,
   "metadata": {},
   "outputs": [],
   "source": [
    "import csv"
   ]
  },
  {
   "cell_type": "code",
   "execution_count": 67,
   "metadata": {},
   "outputs": [
    {
     "data": {
      "text/plain": [
       "19"
      ]
     },
     "execution_count": 67,
     "metadata": {},
     "output_type": "execute_result"
    }
   ],
   "source": [
    "path = os.getcwd()+\"/wechat.csv\"\n",
    "#path = \"/weibo.csv\"\n",
    "# 注意这里的编码是utf-8-sig，如果是utf-8写入的文件是乱码\n",
    "csvfile = open(path,'a',encoding='utf-8-sig',newline='')\n",
    "#clearData(csvfile)\n",
    "#每一次重新运行程序的时候把上一次保存的数据清空 #是重新运行程序#省区手动清空的多余环节\n",
    "csvfile.seek(0,0)\n",
    "csvfile.truncate()\n",
    "writer = csv.writer(csvfile)\n",
    "#writer.writerow(('username','source','comment'))\n",
    "writer.writerow(('昵称','备注','性别','省份','城市','签名'))"
   ]
  },
  {
   "cell_type": "code",
   "execution_count": 68,
   "metadata": {},
   "outputs": [],
   "source": [
    "for i in friends[1:]: \n",
    "    \n",
    "    nickname = i['NickName']\n",
    "    remarkname = i['RemarkName']\n",
    "    \n",
    "    #性别汉化一下\n",
    "    sex = i[\"Sex\"] #找到好友中的sex项\n",
    "    if sex == 1:\n",
    "        sex = '爷们'\n",
    "    elif sex == 2:\n",
    "        sex = '汉子'\n",
    "    elif sex == 0 :\n",
    "        sex = '未知'\n",
    "                      \n",
    "    province = i['Province']\n",
    "    city = i['City']\n",
    "    \n",
    "    #签名要数据预处理一下\n",
    "    signature = i['Signature'].strip().replace('span','').replace('class','').replace('emoji','')\n",
    "    #通过正则表达式将签名中的特殊符号去掉，re.sub则相当于字符串操作中的replace\n",
    "    rep = re.compile('1f\\d+\\w*|[<>/=]')\n",
    "    signature = rep.sub('',signature)\n",
    "    \n",
    "    # 写入csv文件的时候，要按照次序写入，对应中文名称的字段\n",
    "    writer.writerow((nickname,remarkname,sex,province,city,signature))"
   ]
  },
  {
   "cell_type": "code",
   "execution_count": 69,
   "metadata": {},
   "outputs": [],
   "source": [
    "csvfile.close()"
   ]
  },
  {
   "cell_type": "code",
   "execution_count": null,
   "metadata": {},
   "outputs": [],
   "source": []
  }
 ],
 "metadata": {
  "kernelspec": {
   "display_name": "Python 3",
   "language": "python",
   "name": "python3"
  },
  "language_info": {
   "codemirror_mode": {
    "name": "ipython",
    "version": 3
   },
   "file_extension": ".py",
   "mimetype": "text/x-python",
   "name": "python",
   "nbconvert_exporter": "python",
   "pygments_lexer": "ipython3",
   "version": "3.6.5"
  }
 },
 "nbformat": 4,
 "nbformat_minor": 2
}
